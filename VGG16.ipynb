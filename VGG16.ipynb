{
 "cells": [
  {
   "cell_type": "code",
   "execution_count": 1,
   "metadata": {},
   "outputs": [
    {
     "name": "stderr",
     "output_type": "stream",
     "text": [
      "Using TensorFlow backend.\n"
     ]
    }
   ],
   "source": [
    "import keras\n",
    "import keras.applications as app\n",
    "from keras.models import Sequential, load_model, Model\n",
    "from keras import models, optimizers\n",
    "from keras.optimizers import SGD, RMSprop\n",
    "from keras.layers import Input, Dense, Dropout, Activation, Flatten, GlobalAveragePooling2D, GlobalMaxPooling2D, BatchNormalization\n",
    "from keras.preprocessing.image import load_img, ImageDataGenerator\n",
    "from keras import models\n",
    "from keras.preprocessing import image\n",
    "import numpy as np\n",
    "from keras.applications import VGG16\n",
    "from keras.callbacks import ModelCheckpoint\n",
    "import time"
   ]
  },
  {
   "cell_type": "code",
   "execution_count": 26,
   "metadata": {},
   "outputs": [],
   "source": [
    "img_size =224\n",
    "vgg_conv = VGG16(weights='imagenet', include_top=False, input_shape=(img_size, img_size, 3))"
   ]
  },
  {
   "cell_type": "code",
   "execution_count": 27,
   "metadata": {},
   "outputs": [
    {
     "name": "stdout",
     "output_type": "stream",
     "text": [
      "_________________________________________________________________\n",
      "Layer (type)                 Output Shape              Param #   \n",
      "=================================================================\n",
      "input_3 (InputLayer)         (None, 224, 224, 3)       0         \n",
      "_________________________________________________________________\n",
      "block1_conv1 (Conv2D)        (None, 224, 224, 64)      1792      \n",
      "_________________________________________________________________\n",
      "block1_conv2 (Conv2D)        (None, 224, 224, 64)      36928     \n",
      "_________________________________________________________________\n",
      "block1_pool (MaxPooling2D)   (None, 112, 112, 64)      0         \n",
      "_________________________________________________________________\n",
      "block2_conv1 (Conv2D)        (None, 112, 112, 128)     73856     \n",
      "_________________________________________________________________\n",
      "block2_conv2 (Conv2D)        (None, 112, 112, 128)     147584    \n",
      "_________________________________________________________________\n",
      "block2_pool (MaxPooling2D)   (None, 56, 56, 128)       0         \n",
      "_________________________________________________________________\n",
      "block3_conv1 (Conv2D)        (None, 56, 56, 256)       295168    \n",
      "_________________________________________________________________\n",
      "block3_conv2 (Conv2D)        (None, 56, 56, 256)       590080    \n",
      "_________________________________________________________________\n",
      "block3_conv3 (Conv2D)        (None, 56, 56, 256)       590080    \n",
      "_________________________________________________________________\n",
      "block3_pool (MaxPooling2D)   (None, 28, 28, 256)       0         \n",
      "_________________________________________________________________\n",
      "block4_conv1 (Conv2D)        (None, 28, 28, 512)       1180160   \n",
      "_________________________________________________________________\n",
      "block4_conv2 (Conv2D)        (None, 28, 28, 512)       2359808   \n",
      "_________________________________________________________________\n",
      "block4_conv3 (Conv2D)        (None, 28, 28, 512)       2359808   \n",
      "_________________________________________________________________\n",
      "block4_pool (MaxPooling2D)   (None, 14, 14, 512)       0         \n",
      "_________________________________________________________________\n",
      "block5_conv1 (Conv2D)        (None, 14, 14, 512)       2359808   \n",
      "_________________________________________________________________\n",
      "block5_conv2 (Conv2D)        (None, 14, 14, 512)       2359808   \n",
      "_________________________________________________________________\n",
      "block5_conv3 (Conv2D)        (None, 14, 14, 512)       2359808   \n",
      "_________________________________________________________________\n",
      "block5_pool (MaxPooling2D)   (None, 7, 7, 512)         0         \n",
      "=================================================================\n",
      "Total params: 14,714,688\n",
      "Trainable params: 14,714,688\n",
      "Non-trainable params: 0\n",
      "_________________________________________________________________\n"
     ]
    }
   ],
   "source": [
    "vgg_conv.summary()"
   ]
  },
  {
   "cell_type": "code",
   "execution_count": 28,
   "metadata": {},
   "outputs": [],
   "source": [
    "x = vgg_conv.output\n",
    "x = GlobalAveragePooling2D()(x)\n",
    "x = Dense(512,activation='relu')(x)\n",
    "x = Dropout(0.5)(x)\n",
    "x = Dense(256,activation='relu')(x)\n",
    "x = Dense(6,activation='softmax')(x)\n",
    "first_model = Model(inputs=vgg_conv.input, outputs=x)"
   ]
  },
  {
   "cell_type": "code",
   "execution_count": 29,
   "metadata": {},
   "outputs": [
    {
     "name": "stdout",
     "output_type": "stream",
     "text": [
      "_________________________________________________________________\n",
      "Layer (type)                 Output Shape              Param #   \n",
      "=================================================================\n",
      "input_3 (InputLayer)         (None, 224, 224, 3)       0         \n",
      "_________________________________________________________________\n",
      "block1_conv1 (Conv2D)        (None, 224, 224, 64)      1792      \n",
      "_________________________________________________________________\n",
      "block1_conv2 (Conv2D)        (None, 224, 224, 64)      36928     \n",
      "_________________________________________________________________\n",
      "block1_pool (MaxPooling2D)   (None, 112, 112, 64)      0         \n",
      "_________________________________________________________________\n",
      "block2_conv1 (Conv2D)        (None, 112, 112, 128)     73856     \n",
      "_________________________________________________________________\n",
      "block2_conv2 (Conv2D)        (None, 112, 112, 128)     147584    \n",
      "_________________________________________________________________\n",
      "block2_pool (MaxPooling2D)   (None, 56, 56, 128)       0         \n",
      "_________________________________________________________________\n",
      "block3_conv1 (Conv2D)        (None, 56, 56, 256)       295168    \n",
      "_________________________________________________________________\n",
      "block3_conv2 (Conv2D)        (None, 56, 56, 256)       590080    \n",
      "_________________________________________________________________\n",
      "block3_conv3 (Conv2D)        (None, 56, 56, 256)       590080    \n",
      "_________________________________________________________________\n",
      "block3_pool (MaxPooling2D)   (None, 28, 28, 256)       0         \n",
      "_________________________________________________________________\n",
      "block4_conv1 (Conv2D)        (None, 28, 28, 512)       1180160   \n",
      "_________________________________________________________________\n",
      "block4_conv2 (Conv2D)        (None, 28, 28, 512)       2359808   \n",
      "_________________________________________________________________\n",
      "block4_conv3 (Conv2D)        (None, 28, 28, 512)       2359808   \n",
      "_________________________________________________________________\n",
      "block4_pool (MaxPooling2D)   (None, 14, 14, 512)       0         \n",
      "_________________________________________________________________\n",
      "block5_conv1 (Conv2D)        (None, 14, 14, 512)       2359808   \n",
      "_________________________________________________________________\n",
      "block5_conv2 (Conv2D)        (None, 14, 14, 512)       2359808   \n",
      "_________________________________________________________________\n",
      "block5_conv3 (Conv2D)        (None, 14, 14, 512)       2359808   \n",
      "_________________________________________________________________\n",
      "block5_pool (MaxPooling2D)   (None, 7, 7, 512)         0         \n",
      "_________________________________________________________________\n",
      "global_average_pooling2d_5 ( (None, 512)               0         \n",
      "_________________________________________________________________\n",
      "dense_10 (Dense)             (None, 512)               262656    \n",
      "_________________________________________________________________\n",
      "dropout_5 (Dropout)          (None, 512)               0         \n",
      "_________________________________________________________________\n",
      "dense_11 (Dense)             (None, 256)               131328    \n",
      "_________________________________________________________________\n",
      "dense_12 (Dense)             (None, 6)                 1542      \n",
      "=================================================================\n",
      "Total params: 15,110,214\n",
      "Trainable params: 15,110,214\n",
      "Non-trainable params: 0\n",
      "_________________________________________________________________\n"
     ]
    }
   ],
   "source": [
    "first_model.summary()"
   ]
  },
  {
   "cell_type": "code",
   "execution_count": 18,
   "metadata": {},
   "outputs": [
    {
     "name": "stdout",
     "output_type": "stream",
     "text": [
      "0 input_2 False\n",
      "1 block1_conv1 True\n",
      "2 block1_conv2 True\n",
      "3 block1_pool True\n",
      "4 block2_conv1 True\n",
      "5 block2_conv2 True\n",
      "6 block2_pool True\n",
      "7 block3_conv1 True\n",
      "8 block3_conv2 True\n",
      "9 block3_conv3 True\n",
      "10 block3_pool True\n",
      "11 block4_conv1 True\n",
      "12 block4_conv2 True\n",
      "13 block4_conv3 True\n",
      "14 block4_pool True\n",
      "15 block5_conv1 True\n",
      "16 block5_conv2 True\n",
      "17 block5_conv3 True\n",
      "18 block5_pool True\n",
      "19 global_average_pooling2d_3 True\n",
      "20 dense_5 True\n",
      "21 dropout_3 True\n",
      "22 dense_6 True\n"
     ]
    }
   ],
   "source": [
    "for i,layer in enumerate(first_model.layers):\n",
    "    print(i,layer.name,layer.trainable)"
   ]
  },
  {
   "cell_type": "code",
   "execution_count": 30,
   "metadata": {},
   "outputs": [],
   "source": [
    "for layer in first_model.layers[:15]:\n",
    "    layer.trainable= False"
   ]
  },
  {
   "cell_type": "code",
   "execution_count": 31,
   "metadata": {},
   "outputs": [
    {
     "name": "stdout",
     "output_type": "stream",
     "text": [
      "_________________________________________________________________\n",
      "Layer (type)                 Output Shape              Param #   \n",
      "=================================================================\n",
      "input_3 (InputLayer)         (None, 224, 224, 3)       0         \n",
      "_________________________________________________________________\n",
      "block1_conv1 (Conv2D)        (None, 224, 224, 64)      1792      \n",
      "_________________________________________________________________\n",
      "block1_conv2 (Conv2D)        (None, 224, 224, 64)      36928     \n",
      "_________________________________________________________________\n",
      "block1_pool (MaxPooling2D)   (None, 112, 112, 64)      0         \n",
      "_________________________________________________________________\n",
      "block2_conv1 (Conv2D)        (None, 112, 112, 128)     73856     \n",
      "_________________________________________________________________\n",
      "block2_conv2 (Conv2D)        (None, 112, 112, 128)     147584    \n",
      "_________________________________________________________________\n",
      "block2_pool (MaxPooling2D)   (None, 56, 56, 128)       0         \n",
      "_________________________________________________________________\n",
      "block3_conv1 (Conv2D)        (None, 56, 56, 256)       295168    \n",
      "_________________________________________________________________\n",
      "block3_conv2 (Conv2D)        (None, 56, 56, 256)       590080    \n",
      "_________________________________________________________________\n",
      "block3_conv3 (Conv2D)        (None, 56, 56, 256)       590080    \n",
      "_________________________________________________________________\n",
      "block3_pool (MaxPooling2D)   (None, 28, 28, 256)       0         \n",
      "_________________________________________________________________\n",
      "block4_conv1 (Conv2D)        (None, 28, 28, 512)       1180160   \n",
      "_________________________________________________________________\n",
      "block4_conv2 (Conv2D)        (None, 28, 28, 512)       2359808   \n",
      "_________________________________________________________________\n",
      "block4_conv3 (Conv2D)        (None, 28, 28, 512)       2359808   \n",
      "_________________________________________________________________\n",
      "block4_pool (MaxPooling2D)   (None, 14, 14, 512)       0         \n",
      "_________________________________________________________________\n",
      "block5_conv1 (Conv2D)        (None, 14, 14, 512)       2359808   \n",
      "_________________________________________________________________\n",
      "block5_conv2 (Conv2D)        (None, 14, 14, 512)       2359808   \n",
      "_________________________________________________________________\n",
      "block5_conv3 (Conv2D)        (None, 14, 14, 512)       2359808   \n",
      "_________________________________________________________________\n",
      "block5_pool (MaxPooling2D)   (None, 7, 7, 512)         0         \n",
      "_________________________________________________________________\n",
      "global_average_pooling2d_5 ( (None, 512)               0         \n",
      "_________________________________________________________________\n",
      "dense_10 (Dense)             (None, 512)               262656    \n",
      "_________________________________________________________________\n",
      "dropout_5 (Dropout)          (None, 512)               0         \n",
      "_________________________________________________________________\n",
      "dense_11 (Dense)             (None, 256)               131328    \n",
      "_________________________________________________________________\n",
      "dense_12 (Dense)             (None, 6)                 1542      \n",
      "=================================================================\n",
      "Total params: 15,110,214\n",
      "Trainable params: 7,474,950\n",
      "Non-trainable params: 7,635,264\n",
      "_________________________________________________________________\n"
     ]
    }
   ],
   "source": [
    "first_model.summary()"
   ]
  },
  {
   "cell_type": "code",
   "execution_count": 32,
   "metadata": {},
   "outputs": [
    {
     "name": "stdout",
     "output_type": "stream",
     "text": [
      "Found 9918 images belonging to 6 classes.\n",
      "Found 1428 images belonging to 6 classes.\n"
     ]
    }
   ],
   "source": [
    "train_data_set = './Training'\n",
    "validation_set = './Validation'\n",
    "test_data_set = './Test'\n",
    "train_data_gen = ImageDataGenerator(rescale=1.0/255,rotation_range=15, shear_range=0.2,width_shift_range=0.13,height_shift_range=0.13,zoom_range=[0.6,0.2],horizontal_flip=True,fill_mode='nearest',data_format='channels_last')\n",
    "valid_data_gen = ImageDataGenerator(rescale=1.0/255,data_format='channels_last')\n",
    "train_set = train_data_gen.flow_from_directory(train_data_set,target_size=(224,224),batch_size=32,class_mode='categorical',shuffle=True,color_mode='rgb')\n",
    "valid_set = valid_data_gen.flow_from_directory(validation_set,target_size=(224,224),batch_size=32,class_mode='categorical',shuffle=True,color_mode='rgb')\n"
   ]
  },
  {
   "cell_type": "code",
   "execution_count": 33,
   "metadata": {},
   "outputs": [],
   "source": [
    "callback_ckpt = ModelCheckpoint(\"VGG16_weights{epoch:08d}.h5\",period=15,save_weights_only=False,verbose=0)"
   ]
  },
  {
   "cell_type": "code",
   "execution_count": 34,
   "metadata": {},
   "outputs": [],
   "source": [
    "first_model.compile(loss=\"categorical_crossentropy\",optimizer=optimizers.SGD(lr=1e-4, momentum=0.9,nesterov=True),metrics=['accuracy'])"
   ]
  },
  {
   "cell_type": "code",
   "execution_count": 35,
   "metadata": {},
   "outputs": [
    {
     "name": "stdout",
     "output_type": "stream",
     "text": [
      "Epoch 1/45\n",
      "309/309 [==============================] - 227s 736ms/step - loss: 1.8189 - acc: 0.1905 - val_loss: 1.7725 - val_acc: 0.2536\n",
      "Epoch 2/45\n",
      "309/309 [==============================] - 221s 715ms/step - loss: 1.7760 - acc: 0.2245 - val_loss: 1.7548 - val_acc: 0.2894\n",
      "Epoch 3/45\n",
      "309/309 [==============================] - 220s 712ms/step - loss: 1.7339 - acc: 0.2587 - val_loss: 1.7084 - val_acc: 0.3109\n",
      "Epoch 4/45\n",
      "309/309 [==============================] - 221s 714ms/step - loss: 1.6634 - acc: 0.3154 - val_loss: 1.6735 - val_acc: 0.3123\n",
      "Epoch 5/45\n",
      "309/309 [==============================] - 221s 715ms/step - loss: 1.5846 - acc: 0.3529 - val_loss: 1.6159 - val_acc: 0.3431\n",
      "Epoch 6/45\n",
      "309/309 [==============================] - 220s 713ms/step - loss: 1.5191 - acc: 0.3872 - val_loss: 1.5675 - val_acc: 0.3646\n",
      "Epoch 7/45\n",
      "309/309 [==============================] - 228s 739ms/step - loss: 1.4672 - acc: 0.4152 - val_loss: 1.5295 - val_acc: 0.3703\n",
      "Epoch 8/45\n",
      "309/309 [==============================] - 219s 710ms/step - loss: 1.4091 - acc: 0.4428 - val_loss: 1.4629 - val_acc: 0.4004\n",
      "Epoch 9/45\n",
      "309/309 [==============================] - 219s 709ms/step - loss: 1.3464 - acc: 0.4732 - val_loss: 1.4412 - val_acc: 0.4054\n",
      "Epoch 10/45\n",
      "309/309 [==============================] - 219s 708ms/step - loss: 1.2865 - acc: 0.4973 - val_loss: 1.4598 - val_acc: 0.4126\n",
      "Epoch 11/45\n",
      "309/309 [==============================] - 223s 722ms/step - loss: 1.2275 - acc: 0.5280 - val_loss: 1.4219 - val_acc: 0.4262\n",
      "Epoch 12/45\n",
      "309/309 [==============================] - 219s 710ms/step - loss: 1.1690 - acc: 0.5500 - val_loss: 1.5374 - val_acc: 0.3911\n",
      "Epoch 13/45\n",
      "309/309 [==============================] - 224s 726ms/step - loss: 1.1290 - acc: 0.5694 - val_loss: 1.3362 - val_acc: 0.4628\n",
      "Epoch 14/45\n",
      "309/309 [==============================] - 221s 714ms/step - loss: 1.0776 - acc: 0.5960 - val_loss: 1.3480 - val_acc: 0.4721\n",
      "Epoch 15/45\n",
      "309/309 [==============================] - 222s 717ms/step - loss: 1.0373 - acc: 0.6126 - val_loss: 1.2484 - val_acc: 0.5215\n",
      "Epoch 16/45\n",
      "309/309 [==============================] - 221s 715ms/step - loss: 0.9975 - acc: 0.6296 - val_loss: 1.2407 - val_acc: 0.5322\n",
      "Epoch 17/45\n",
      "309/309 [==============================] - 218s 706ms/step - loss: 0.9557 - acc: 0.6466 - val_loss: 1.3292 - val_acc: 0.4900\n",
      "Epoch 18/45\n",
      "309/309 [==============================] - 223s 722ms/step - loss: 0.9107 - acc: 0.6663 - val_loss: 1.2971 - val_acc: 0.5122\n",
      "Epoch 19/45\n",
      "309/309 [==============================] - 226s 733ms/step - loss: 0.8908 - acc: 0.6783 - val_loss: 1.2152 - val_acc: 0.5516\n",
      "Epoch 20/45\n",
      "309/309 [==============================] - 226s 733ms/step - loss: 0.8387 - acc: 0.6981 - val_loss: 1.1818 - val_acc: 0.5595\n",
      "Epoch 21/45\n",
      "309/309 [==============================] - 221s 715ms/step - loss: 0.8341 - acc: 0.6988 - val_loss: 1.1267 - val_acc: 0.5874\n",
      "Epoch 22/45\n",
      "309/309 [==============================] - 221s 715ms/step - loss: 0.8035 - acc: 0.7071 - val_loss: 1.1252 - val_acc: 0.5766\n",
      "Epoch 23/45\n",
      "309/309 [==============================] - 223s 722ms/step - loss: 0.7875 - acc: 0.7170 - val_loss: 1.0775 - val_acc: 0.5795\n",
      "Epoch 24/45\n",
      "309/309 [==============================] - 220s 712ms/step - loss: 0.7608 - acc: 0.7290 - val_loss: 1.0702 - val_acc: 0.6110\n",
      "Epoch 25/45\n",
      "309/309 [==============================] - 221s 716ms/step - loss: 0.7489 - acc: 0.7295 - val_loss: 1.1183 - val_acc: 0.5867\n",
      "Epoch 26/45\n",
      "309/309 [==============================] - 220s 712ms/step - loss: 0.7298 - acc: 0.7357 - val_loss: 1.0507 - val_acc: 0.6225\n",
      "Epoch 27/45\n",
      "309/309 [==============================] - 229s 742ms/step - loss: 0.7113 - acc: 0.7463 - val_loss: 1.0674 - val_acc: 0.6232\n",
      "Epoch 28/45\n",
      "309/309 [==============================] - 225s 727ms/step - loss: 0.7000 - acc: 0.7535 - val_loss: 0.9942 - val_acc: 0.6282\n",
      "Epoch 29/45\n",
      "309/309 [==============================] - 221s 715ms/step - loss: 0.6763 - acc: 0.7612 - val_loss: 1.0691 - val_acc: 0.6096\n",
      "Epoch 30/45\n",
      "309/309 [==============================] - 228s 738ms/step - loss: 0.6720 - acc: 0.7570 - val_loss: 1.0254 - val_acc: 0.6239\n",
      "Epoch 31/45\n",
      "309/309 [==============================] - 220s 713ms/step - loss: 0.6585 - acc: 0.7664 - val_loss: 1.1777 - val_acc: 0.5831\n",
      "Epoch 32/45\n",
      "309/309 [==============================] - 222s 719ms/step - loss: 0.6470 - acc: 0.7713 - val_loss: 0.9640 - val_acc: 0.6612\n",
      "Epoch 33/45\n",
      "309/309 [==============================] - 224s 726ms/step - loss: 0.6331 - acc: 0.7733 - val_loss: 1.0299 - val_acc: 0.6282\n",
      "Epoch 34/45\n",
      "309/309 [==============================] - 225s 730ms/step - loss: 0.6228 - acc: 0.7786 - val_loss: 1.0805 - val_acc: 0.6332\n",
      "Epoch 35/45\n",
      "309/309 [==============================] - 221s 716ms/step - loss: 0.6044 - acc: 0.7872 - val_loss: 1.0273 - val_acc: 0.6426\n",
      "Epoch 36/45\n",
      "309/309 [==============================] - 220s 712ms/step - loss: 0.5957 - acc: 0.7920 - val_loss: 0.9861 - val_acc: 0.6461\n",
      "Epoch 37/45\n",
      "309/309 [==============================] - 226s 731ms/step - loss: 0.6013 - acc: 0.7897 - val_loss: 0.9123 - val_acc: 0.6705\n",
      "Epoch 38/45\n",
      "309/309 [==============================] - 222s 719ms/step - loss: 0.5805 - acc: 0.7940 - val_loss: 0.9407 - val_acc: 0.6669\n",
      "Epoch 39/45\n",
      "309/309 [==============================] - 223s 723ms/step - loss: 0.5835 - acc: 0.7895 - val_loss: 1.1856 - val_acc: 0.6003\n",
      "Epoch 40/45\n",
      "309/309 [==============================] - 229s 742ms/step - loss: 0.5770 - acc: 0.7968 - val_loss: 1.0027 - val_acc: 0.6504\n",
      "Epoch 41/45\n",
      "309/309 [==============================] - 224s 723ms/step - loss: 0.5614 - acc: 0.8022 - val_loss: 0.9928 - val_acc: 0.6562\n",
      "Epoch 42/45\n",
      "309/309 [==============================] - 220s 711ms/step - loss: 0.5548 - acc: 0.8065 - val_loss: 1.0530 - val_acc: 0.6397\n",
      "Epoch 43/45\n",
      "309/309 [==============================] - 219s 710ms/step - loss: 0.5649 - acc: 0.7998 - val_loss: 0.9494 - val_acc: 0.6655\n",
      "Epoch 44/45\n",
      "309/309 [==============================] - 218s 707ms/step - loss: 0.5415 - acc: 0.8090 - val_loss: 1.0560 - val_acc: 0.6454\n",
      "Epoch 45/45\n",
      "309/309 [==============================] - 219s 709ms/step - loss: 0.5325 - acc: 0.8141 - val_loss: 0.9770 - val_acc: 0.6655\n",
      "time : 10004.561614274979\n"
     ]
    }
   ],
   "source": [
    "start = time.time()\n",
    "history = first_model.fit_generator(train_set,steps_per_epoch=9918//32,epochs=45,validation_data=valid_set,validation_steps=1428//32,callbacks=[callback_ckpt])\n",
    "print(\"time :\", time.time() - start)\n",
    "first_model.save(\"VGG16_Transfer_Learning_1.h5\")"
   ]
  },
  {
   "cell_type": "code",
   "execution_count": 36,
   "metadata": {},
   "outputs": [],
   "source": [
    "import matplotlib.pyplot as plt"
   ]
  },
  {
   "cell_type": "code",
   "execution_count": 37,
   "metadata": {},
   "outputs": [
    {
     "data": {
      "text/plain": [
       "['loss', 'acc']"
      ]
     },
     "execution_count": 37,
     "metadata": {},
     "output_type": "execute_result"
    }
   ],
   "source": [
    "first_model.metrics_names"
   ]
  },
  {
   "cell_type": "code",
   "execution_count": 38,
   "metadata": {},
   "outputs": [
    {
     "data": {
      "text/plain": [
       "<matplotlib.legend.Legend at 0x1f07327f0b8>"
      ]
     },
     "execution_count": 38,
     "metadata": {},
     "output_type": "execute_result"
    },
    {
     "data": {
      "image/png": "[encoded data removed]",
      "text/plain": [
       "<Figure size 432x288 with 1 Axes>"
      ]
     },
     "metadata": {
      "needs_background": "light"
     },
     "output_type": "display_data"
    }
   ],
   "source": [
    "acc = history.history['acc']\n",
    "loss = history.history['loss']\n",
    "epochs = range(len(acc))\n",
    "plt.plot(epochs,acc,'r',label='Training Accuracy')\n",
    "plt.title(\"Training Accuracy & Loss\")\n",
    "plt.plot(epochs,loss,'b',label='Training Loss')\n",
    "plt.legend()"
   ]
  },
  {
   "cell_type": "code",
   "execution_count": 40,
   "metadata": {},
   "outputs": [
    {
     "data": {
      "text/plain": [
       "<matplotlib.legend.Legend at 0x1f07337f4a8>"
      ]
     },
     "execution_count": 40,
     "metadata": {},
     "output_type": "execute_result"
    },
    {
     "data": {
      "image/png": "[encoded data removed]",
      "text/plain": [
       "<Figure size 432x288 with 1 Axes>"
      ]
     },
     "metadata": {
      "needs_background": "light"
     },
     "output_type": "display_data"
    }
   ],
   "source": [
    "plt.clf()\n",
    "val_acc = history.history['val_acc']\n",
    "val_loss = history.history['val_loss']\n",
    "epochs = range(len(acc))\n",
    "plt.plot(epochs,val_acc,'r',label='Validation Accuracy')\n",
    "plt.title(\"Validation Accuracy & Loss\")\n",
    "plt.plot(epochs,val_loss,'b',label='Validation Loss')\n",
    "plt.legend()"
   ]
  },
  {
   "cell_type": "code",
   "execution_count": 42,
   "metadata": {},
   "outputs": [
    {
     "name": "stdout",
     "output_type": "stream",
     "text": [
      "Found 2860 images belonging to 6 classes.\n",
      "178/178 [==============================] - 37s 205ms/step\n"
     ]
    },
    {
     "data": {
      "text/plain": [
       "[1.042558168594757, 0.6390449438202247]"
      ]
     },
     "execution_count": 42,
     "metadata": {},
     "output_type": "execute_result"
    }
   ],
   "source": [
    "test_data_gen = ImageDataGenerator(rescale=1.0/255,data_format='channels_last')\n",
    "test_set_generator = test_data_gen.flow_from_directory(test_data_set,target_size=(224,224),batch_size=16,class_mode='categorical',color_mode='rgb',shuffle=True)\n",
    "first_model.evaluate_generator(test_set_generator,steps=2860//16,verbose=1)"
   ]
  },
  {
   "cell_type": "code",
   "execution_count": 34,
   "metadata": {},
   "outputs": [
    {
     "name": "stdout",
     "output_type": "stream",
     "text": [
      "Epoch 1/45\n",
      "424/489 [=========================>....] - ETA: 44s - loss: 1.3668 - acc: 0.5495"
     ]
    },
    {
     "name": "stderr",
     "output_type": "stream",
     "text": [
      "C:\\Users\\Hou\\AppData\\Local\\conda\\conda\\envs\\Keras_TF\\lib\\site-packages\\PIL\\TiffImagePlugin.py:768: UserWarning: Possibly corrupt EXIF data.  Expecting to read 8 bytes but only got 2. Skipping tag 41486\n",
      "  \" Skipping tag %s\" % (size, len(data), tag))\n"
     ]
    },
    {
     "name": "stdout",
     "output_type": "stream",
     "text": [
      "489/489 [==============================] - 356s 728ms/step - loss: 1.3644 - acc: 0.5489 - val_loss: 1.6995 - val_acc: 0.4352\n",
      "Epoch 2/45\n",
      "489/489 [==============================] - 346s 707ms/step - loss: 1.3607 - acc: 0.5476 - val_loss: 1.7296 - val_acc: 0.4271\n",
      "Epoch 3/45\n",
      "489/489 [==============================] - 342s 700ms/step - loss: 1.3328 - acc: 0.5622 - val_loss: 1.6910 - val_acc: 0.4298\n",
      "Epoch 4/45\n",
      "489/489 [==============================] - 344s 703ms/step - loss: 1.3429 - acc: 0.5556 - val_loss: 1.7327 - val_acc: 0.4208\n",
      "Epoch 5/45\n",
      "489/489 [==============================] - 347s 710ms/step - loss: 1.3274 - acc: 0.5623 - val_loss: 1.6898 - val_acc: 0.4343\n",
      "Epoch 6/45\n",
      "489/489 [==============================] - 339s 694ms/step - loss: 1.3274 - acc: 0.5661 - val_loss: 1.7599 - val_acc: 0.4140\n",
      "Epoch 7/45\n",
      "489/489 [==============================] - 343s 702ms/step - loss: 1.3419 - acc: 0.5593 - val_loss: 1.7590 - val_acc: 0.4140\n",
      "Epoch 8/45\n",
      "489/489 [==============================] - 344s 703ms/step - loss: 1.3385 - acc: 0.5581 - val_loss: 1.7352 - val_acc: 0.4271\n",
      "Epoch 9/45\n",
      "489/489 [==============================] - 345s 705ms/step - loss: 1.3172 - acc: 0.5659 - val_loss: 1.7520 - val_acc: 0.4176\n",
      "Epoch 10/45\n",
      "489/489 [==============================] - 343s 701ms/step - loss: 1.3251 - acc: 0.5624 - val_loss: 1.7529 - val_acc: 0.4181\n",
      "Epoch 11/45\n",
      "489/489 [==============================] - 343s 702ms/step - loss: 1.3231 - acc: 0.5720 - val_loss: 1.7073 - val_acc: 0.4293\n",
      "Epoch 12/45\n",
      "489/489 [==============================] - 344s 703ms/step - loss: 1.3210 - acc: 0.5670 - val_loss: 1.7513 - val_acc: 0.4203\n",
      "Epoch 13/45\n",
      "489/489 [==============================] - 343s 702ms/step - loss: 1.3298 - acc: 0.5632 - val_loss: 1.6858 - val_acc: 0.4325\n",
      "Epoch 14/45\n",
      "330/489 [===================>..........] - ETA: 1:45 - loss: 1.3244 - acc: 0.5598"
     ]
    },
    {
     "ename": "KeyboardInterrupt",
     "evalue": "",
     "output_type": "error",
     "traceback": [
      "\u001b[1;31m---------------------------------------------------------------------------\u001b[0m",
      "\u001b[1;31mKeyboardInterrupt\u001b[0m                         Traceback (most recent call last)",
      "\u001b[1;32m<ipython-input-34-90be667ada60>\u001b[0m in \u001b[0;36m<module>\u001b[1;34m\u001b[0m\n\u001b[0;32m      2\u001b[0m \u001b[0mfirst_model\u001b[0m\u001b[1;33m.\u001b[0m\u001b[0mcompile\u001b[0m\u001b[1;33m(\u001b[0m\u001b[0mloss\u001b[0m\u001b[1;33m=\u001b[0m\u001b[1;34m\"categorical_crossentropy\"\u001b[0m\u001b[1;33m,\u001b[0m\u001b[0moptimizer\u001b[0m\u001b[1;33m=\u001b[0m\u001b[0moptimizers\u001b[0m\u001b[1;33m.\u001b[0m\u001b[0mSGD\u001b[0m\u001b[1;33m(\u001b[0m\u001b[0mlr\u001b[0m\u001b[1;33m=\u001b[0m\u001b[1;36m1e-4\u001b[0m\u001b[1;33m,\u001b[0m \u001b[0mmomentum\u001b[0m\u001b[1;33m=\u001b[0m\u001b[1;36m0.9\u001b[0m\u001b[1;33m,\u001b[0m\u001b[0mnesterov\u001b[0m\u001b[1;33m=\u001b[0m\u001b[1;32mTrue\u001b[0m\u001b[1;33m)\u001b[0m\u001b[1;33m,\u001b[0m\u001b[0mmetrics\u001b[0m\u001b[1;33m=\u001b[0m\u001b[1;33m[\u001b[0m\u001b[1;34m'accuracy'\u001b[0m\u001b[1;33m]\u001b[0m\u001b[1;33m)\u001b[0m\u001b[1;33m\u001b[0m\u001b[1;33m\u001b[0m\u001b[0m\n\u001b[0;32m      3\u001b[0m \u001b[0mstart\u001b[0m \u001b[1;33m=\u001b[0m \u001b[0mtime\u001b[0m\u001b[1;33m.\u001b[0m\u001b[0mtime\u001b[0m\u001b[1;33m(\u001b[0m\u001b[1;33m)\u001b[0m\u001b[1;33m\u001b[0m\u001b[1;33m\u001b[0m\u001b[0m\n\u001b[1;32m----> 4\u001b[1;33m \u001b[0mhistory2\u001b[0m \u001b[1;33m=\u001b[0m \u001b[0mfirst_model\u001b[0m\u001b[1;33m.\u001b[0m\u001b[0mfit_generator\u001b[0m\u001b[1;33m(\u001b[0m\u001b[0mtrain_set\u001b[0m\u001b[1;33m,\u001b[0m\u001b[0msteps_per_epoch\u001b[0m\u001b[1;33m=\u001b[0m\u001b[1;36m15672\u001b[0m\u001b[1;33m//\u001b[0m\u001b[1;36m32\u001b[0m\u001b[1;33m,\u001b[0m\u001b[0mepochs\u001b[0m\u001b[1;33m=\u001b[0m\u001b[1;36m45\u001b[0m\u001b[1;33m,\u001b[0m\u001b[0mvalidation_data\u001b[0m\u001b[1;33m=\u001b[0m\u001b[0mvalid_set\u001b[0m\u001b[1;33m,\u001b[0m\u001b[0mvalidation_steps\u001b[0m\u001b[1;33m=\u001b[0m\u001b[1;36m2254\u001b[0m\u001b[1;33m//\u001b[0m\u001b[1;36m32\u001b[0m\u001b[1;33m,\u001b[0m\u001b[0mcallbacks\u001b[0m\u001b[1;33m=\u001b[0m\u001b[1;33m[\u001b[0m\u001b[0mcallback_ckpt\u001b[0m\u001b[1;33m]\u001b[0m\u001b[1;33m)\u001b[0m\u001b[1;33m\u001b[0m\u001b[1;33m\u001b[0m\u001b[0m\n\u001b[0m\u001b[0;32m      5\u001b[0m \u001b[0mprint\u001b[0m\u001b[1;33m(\u001b[0m\u001b[1;34m\"time :\"\u001b[0m\u001b[1;33m,\u001b[0m \u001b[0mtime\u001b[0m\u001b[1;33m.\u001b[0m\u001b[0mtime\u001b[0m\u001b[1;33m(\u001b[0m\u001b[1;33m)\u001b[0m \u001b[1;33m-\u001b[0m \u001b[0mstart\u001b[0m\u001b[1;33m)\u001b[0m\u001b[1;33m\u001b[0m\u001b[1;33m\u001b[0m\u001b[0m\n\u001b[0;32m      6\u001b[0m \u001b[0mfirst_model\u001b[0m\u001b[1;33m.\u001b[0m\u001b[0msave\u001b[0m\u001b[1;33m(\u001b[0m\u001b[1;34m\"VGG16_Transfer_Learning_2.h5\"\u001b[0m\u001b[1;33m)\u001b[0m\u001b[1;33m\u001b[0m\u001b[1;33m\u001b[0m\u001b[0m\n",
      "\u001b[1;32m~\\AppData\\Local\\conda\\conda\\envs\\Keras_TF\\lib\\site-packages\\keras\\legacy\\interfaces.py\u001b[0m in \u001b[0;36mwrapper\u001b[1;34m(*args, **kwargs)\u001b[0m\n\u001b[0;32m     89\u001b[0m                 warnings.warn('Update your `' + object_name + '` call to the ' +\n\u001b[0;32m     90\u001b[0m                               'Keras 2 API: ' + signature, stacklevel=2)\n\u001b[1;32m---> 91\u001b[1;33m             \u001b[1;32mreturn\u001b[0m \u001b[0mfunc\u001b[0m\u001b[1;33m(\u001b[0m\u001b[1;33m*\u001b[0m\u001b[0margs\u001b[0m\u001b[1;33m,\u001b[0m \u001b[1;33m**\u001b[0m\u001b[0mkwargs\u001b[0m\u001b[1;33m)\u001b[0m\u001b[1;33m\u001b[0m\u001b[1;33m\u001b[0m\u001b[0m\n\u001b[0m\u001b[0;32m     92\u001b[0m         \u001b[0mwrapper\u001b[0m\u001b[1;33m.\u001b[0m\u001b[0m_original_function\u001b[0m \u001b[1;33m=\u001b[0m \u001b[0mfunc\u001b[0m\u001b[1;33m\u001b[0m\u001b[1;33m\u001b[0m\u001b[0m\n\u001b[0;32m     93\u001b[0m         \u001b[1;32mreturn\u001b[0m \u001b[0mwrapper\u001b[0m\u001b[1;33m\u001b[0m\u001b[1;33m\u001b[0m\u001b[0m\n",
      "\u001b[1;32m~\\AppData\\Local\\conda\\conda\\envs\\Keras_TF\\lib\\site-packages\\keras\\engine\\training.py\u001b[0m in \u001b[0;36mfit_generator\u001b[1;34m(self, generator, steps_per_epoch, epochs, verbose, callbacks, validation_data, validation_steps, class_weight, max_queue_size, workers, use_multiprocessing, shuffle, initial_epoch)\u001b[0m\n\u001b[0;32m   1416\u001b[0m             \u001b[0muse_multiprocessing\u001b[0m\u001b[1;33m=\u001b[0m\u001b[0muse_multiprocessing\u001b[0m\u001b[1;33m,\u001b[0m\u001b[1;33m\u001b[0m\u001b[1;33m\u001b[0m\u001b[0m\n\u001b[0;32m   1417\u001b[0m             \u001b[0mshuffle\u001b[0m\u001b[1;33m=\u001b[0m\u001b[0mshuffle\u001b[0m\u001b[1;33m,\u001b[0m\u001b[1;33m\u001b[0m\u001b[1;33m\u001b[0m\u001b[0m\n\u001b[1;32m-> 1418\u001b[1;33m             initial_epoch=initial_epoch)\n\u001b[0m\u001b[0;32m   1419\u001b[0m \u001b[1;33m\u001b[0m\u001b[0m\n\u001b[0;32m   1420\u001b[0m     \u001b[1;33m@\u001b[0m\u001b[0minterfaces\u001b[0m\u001b[1;33m.\u001b[0m\u001b[0mlegacy_generator_methods_support\u001b[0m\u001b[1;33m\u001b[0m\u001b[1;33m\u001b[0m\u001b[0m\n",
      "\u001b[1;32m~\\AppData\\Local\\conda\\conda\\envs\\Keras_TF\\lib\\site-packages\\keras\\engine\\training_generator.py\u001b[0m in \u001b[0;36mfit_generator\u001b[1;34m(model, generator, steps_per_epoch, epochs, verbose, callbacks, validation_data, validation_steps, class_weight, max_queue_size, workers, use_multiprocessing, shuffle, initial_epoch)\u001b[0m\n\u001b[0;32m    215\u001b[0m                 outs = model.train_on_batch(x, y,\n\u001b[0;32m    216\u001b[0m                                             \u001b[0msample_weight\u001b[0m\u001b[1;33m=\u001b[0m\u001b[0msample_weight\u001b[0m\u001b[1;33m,\u001b[0m\u001b[1;33m\u001b[0m\u001b[1;33m\u001b[0m\u001b[0m\n\u001b[1;32m--> 217\u001b[1;33m                                             class_weight=class_weight)\n\u001b[0m\u001b[0;32m    218\u001b[0m \u001b[1;33m\u001b[0m\u001b[0m\n\u001b[0;32m    219\u001b[0m                 \u001b[0mouts\u001b[0m \u001b[1;33m=\u001b[0m \u001b[0mto_list\u001b[0m\u001b[1;33m(\u001b[0m\u001b[0mouts\u001b[0m\u001b[1;33m)\u001b[0m\u001b[1;33m\u001b[0m\u001b[1;33m\u001b[0m\u001b[0m\n",
      "\u001b[1;32m~\\AppData\\Local\\conda\\conda\\envs\\Keras_TF\\lib\\site-packages\\keras\\engine\\training.py\u001b[0m in \u001b[0;36mtrain_on_batch\u001b[1;34m(self, x, y, sample_weight, class_weight)\u001b[0m\n\u001b[0;32m   1215\u001b[0m             \u001b[0mins\u001b[0m \u001b[1;33m=\u001b[0m \u001b[0mx\u001b[0m \u001b[1;33m+\u001b[0m \u001b[0my\u001b[0m \u001b[1;33m+\u001b[0m \u001b[0msample_weights\u001b[0m\u001b[1;33m\u001b[0m\u001b[1;33m\u001b[0m\u001b[0m\n\u001b[0;32m   1216\u001b[0m         \u001b[0mself\u001b[0m\u001b[1;33m.\u001b[0m\u001b[0m_make_train_function\u001b[0m\u001b[1;33m(\u001b[0m\u001b[1;33m)\u001b[0m\u001b[1;33m\u001b[0m\u001b[1;33m\u001b[0m\u001b[0m\n\u001b[1;32m-> 1217\u001b[1;33m         \u001b[0moutputs\u001b[0m \u001b[1;33m=\u001b[0m \u001b[0mself\u001b[0m\u001b[1;33m.\u001b[0m\u001b[0mtrain_function\u001b[0m\u001b[1;33m(\u001b[0m\u001b[0mins\u001b[0m\u001b[1;33m)\u001b[0m\u001b[1;33m\u001b[0m\u001b[1;33m\u001b[0m\u001b[0m\n\u001b[0m\u001b[0;32m   1218\u001b[0m         \u001b[1;32mreturn\u001b[0m \u001b[0munpack_singleton\u001b[0m\u001b[1;33m(\u001b[0m\u001b[0moutputs\u001b[0m\u001b[1;33m)\u001b[0m\u001b[1;33m\u001b[0m\u001b[1;33m\u001b[0m\u001b[0m\n\u001b[0;32m   1219\u001b[0m \u001b[1;33m\u001b[0m\u001b[0m\n",
      "\u001b[1;32m~\\AppData\\Local\\conda\\conda\\envs\\Keras_TF\\lib\\site-packages\\keras\\backend\\tensorflow_backend.py\u001b[0m in \u001b[0;36m__call__\u001b[1;34m(self, inputs)\u001b[0m\n\u001b[0;32m   2713\u001b[0m                 \u001b[1;32mreturn\u001b[0m \u001b[0mself\u001b[0m\u001b[1;33m.\u001b[0m\u001b[0m_legacy_call\u001b[0m\u001b[1;33m(\u001b[0m\u001b[0minputs\u001b[0m\u001b[1;33m)\u001b[0m\u001b[1;33m\u001b[0m\u001b[1;33m\u001b[0m\u001b[0m\n\u001b[0;32m   2714\u001b[0m \u001b[1;33m\u001b[0m\u001b[0m\n\u001b[1;32m-> 2715\u001b[1;33m             \u001b[1;32mreturn\u001b[0m \u001b[0mself\u001b[0m\u001b[1;33m.\u001b[0m\u001b[0m_call\u001b[0m\u001b[1;33m(\u001b[0m\u001b[0minputs\u001b[0m\u001b[1;33m)\u001b[0m\u001b[1;33m\u001b[0m\u001b[1;33m\u001b[0m\u001b[0m\n\u001b[0m\u001b[0;32m   2716\u001b[0m         \u001b[1;32melse\u001b[0m\u001b[1;33m:\u001b[0m\u001b[1;33m\u001b[0m\u001b[1;33m\u001b[0m\u001b[0m\n\u001b[0;32m   2717\u001b[0m             \u001b[1;32mif\u001b[0m \u001b[0mpy_any\u001b[0m\u001b[1;33m(\u001b[0m\u001b[0mis_tensor\u001b[0m\u001b[1;33m(\u001b[0m\u001b[0mx\u001b[0m\u001b[1;33m)\u001b[0m \u001b[1;32mfor\u001b[0m \u001b[0mx\u001b[0m \u001b[1;32min\u001b[0m \u001b[0minputs\u001b[0m\u001b[1;33m)\u001b[0m\u001b[1;33m:\u001b[0m\u001b[1;33m\u001b[0m\u001b[1;33m\u001b[0m\u001b[0m\n",
      "\u001b[1;32m~\\AppData\\Local\\conda\\conda\\envs\\Keras_TF\\lib\\site-packages\\keras\\backend\\tensorflow_backend.py\u001b[0m in \u001b[0;36m_call\u001b[1;34m(self, inputs)\u001b[0m\n\u001b[0;32m   2673\u001b[0m             \u001b[0mfetched\u001b[0m \u001b[1;33m=\u001b[0m \u001b[0mself\u001b[0m\u001b[1;33m.\u001b[0m\u001b[0m_callable_fn\u001b[0m\u001b[1;33m(\u001b[0m\u001b[1;33m*\u001b[0m\u001b[0marray_vals\u001b[0m\u001b[1;33m,\u001b[0m \u001b[0mrun_metadata\u001b[0m\u001b[1;33m=\u001b[0m\u001b[0mself\u001b[0m\u001b[1;33m.\u001b[0m\u001b[0mrun_metadata\u001b[0m\u001b[1;33m)\u001b[0m\u001b[1;33m\u001b[0m\u001b[1;33m\u001b[0m\u001b[0m\n\u001b[0;32m   2674\u001b[0m         \u001b[1;32melse\u001b[0m\u001b[1;33m:\u001b[0m\u001b[1;33m\u001b[0m\u001b[1;33m\u001b[0m\u001b[0m\n\u001b[1;32m-> 2675\u001b[1;33m             \u001b[0mfetched\u001b[0m \u001b[1;33m=\u001b[0m \u001b[0mself\u001b[0m\u001b[1;33m.\u001b[0m\u001b[0m_callable_fn\u001b[0m\u001b[1;33m(\u001b[0m\u001b[1;33m*\u001b[0m\u001b[0marray_vals\u001b[0m\u001b[1;33m)\u001b[0m\u001b[1;33m\u001b[0m\u001b[1;33m\u001b[0m\u001b[0m\n\u001b[0m\u001b[0;32m   2676\u001b[0m         \u001b[1;32mreturn\u001b[0m \u001b[0mfetched\u001b[0m\u001b[1;33m[\u001b[0m\u001b[1;33m:\u001b[0m\u001b[0mlen\u001b[0m\u001b[1;33m(\u001b[0m\u001b[0mself\u001b[0m\u001b[1;33m.\u001b[0m\u001b[0moutputs\u001b[0m\u001b[1;33m)\u001b[0m\u001b[1;33m]\u001b[0m\u001b[1;33m\u001b[0m\u001b[1;33m\u001b[0m\u001b[0m\n\u001b[0;32m   2677\u001b[0m \u001b[1;33m\u001b[0m\u001b[0m\n",
      "\u001b[1;32m~\\AppData\\Local\\conda\\conda\\envs\\Keras_TF\\lib\\site-packages\\tensorflow\\python\\client\\session.py\u001b[0m in \u001b[0;36m__call__\u001b[1;34m(self, *args, **kwargs)\u001b[0m\n\u001b[0;32m   1437\u001b[0m           ret = tf_session.TF_SessionRunCallable(\n\u001b[0;32m   1438\u001b[0m               \u001b[0mself\u001b[0m\u001b[1;33m.\u001b[0m\u001b[0m_session\u001b[0m\u001b[1;33m.\u001b[0m\u001b[0m_session\u001b[0m\u001b[1;33m,\u001b[0m \u001b[0mself\u001b[0m\u001b[1;33m.\u001b[0m\u001b[0m_handle\u001b[0m\u001b[1;33m,\u001b[0m \u001b[0margs\u001b[0m\u001b[1;33m,\u001b[0m \u001b[0mstatus\u001b[0m\u001b[1;33m,\u001b[0m\u001b[1;33m\u001b[0m\u001b[1;33m\u001b[0m\u001b[0m\n\u001b[1;32m-> 1439\u001b[1;33m               run_metadata_ptr)\n\u001b[0m\u001b[0;32m   1440\u001b[0m         \u001b[1;32mif\u001b[0m \u001b[0mrun_metadata\u001b[0m\u001b[1;33m:\u001b[0m\u001b[1;33m\u001b[0m\u001b[1;33m\u001b[0m\u001b[0m\n\u001b[0;32m   1441\u001b[0m           \u001b[0mproto_data\u001b[0m \u001b[1;33m=\u001b[0m \u001b[0mtf_session\u001b[0m\u001b[1;33m.\u001b[0m\u001b[0mTF_GetBuffer\u001b[0m\u001b[1;33m(\u001b[0m\u001b[0mrun_metadata_ptr\u001b[0m\u001b[1;33m)\u001b[0m\u001b[1;33m\u001b[0m\u001b[1;33m\u001b[0m\u001b[0m\n",
      "\u001b[1;31mKeyboardInterrupt\u001b[0m: "
     ]
    }
   ],
   "source": [
    "callback_ckpt = ModelCheckpoint(\"VGG16_weights{epoch:08d}.h5\",period=15,save_weights_only=False,verbose=0)\n",
    "first_model.compile(loss=\"categorical_crossentropy\",optimizer=optimizers.SGD(lr=1e-4, momentum=0.9,nesterov=True),metrics=['accuracy'])\n",
    "start = time.time()\n",
    "history2 = first_model.fit_generator(train_set,steps_per_epoch=15672//32,epochs=45,validation_data=valid_set,validation_steps=2254//32,callbacks=[callback_ckpt])\n",
    "print(\"time :\", time.time() - start)\n",
    "first_model.save(\"VGG16_Transfer_Learning_2.h5\")"
   ]
  },
  {
   "cell_type": "code",
   "execution_count": null,
   "metadata": {},
   "outputs": [],
   "source": []
  }
 ],
 "metadata": {
  "kernelspec": {
   "display_name": "Keras_TF",
   "language": "python",
   "name": "keras_tf"
  },
  "language_info": {
   "codemirror_mode": {
    "name": "ipython",
    "version": 3
   },
   "file_extension": ".py",
   "mimetype": "text/x-python",
   "name": "python",
   "nbconvert_exporter": "python",
   "pygments_lexer": "ipython3",
   "version": "3.6.8"
  }
 },
 "nbformat": 4,
 "nbformat_minor": 2
}
