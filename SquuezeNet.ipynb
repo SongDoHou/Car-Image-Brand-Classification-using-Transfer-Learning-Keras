{
 "cells": [
  {
   "cell_type": "code",
   "execution_count": 1,
   "metadata": {},
   "outputs": [
    {
     "name": "stderr",
     "output_type": "stream",
     "text": [
      "Using TensorFlow backend.\n"
     ]
    }
   ],
   "source": [
    "from keras_applications.imagenet_utils import _obtain_input_shape\n",
    "from keras import backend as K\n",
    "from keras.layers import Input, Convolution2D, MaxPooling2D, Activation, concatenate, Dropout, warnings, Flatten\n",
    "from keras.layers import GlobalAveragePooling2D, GlobalMaxPooling2D, Dense, BatchNormalization\n",
    "from keras.models import Model\n",
    "from keras.engine.topology import get_source_inputs\n",
    "from keras.utils import get_file\n",
    "from keras.utils import layer_utils\n",
    "from keras.preprocessing.image import load_img, ImageDataGenerator\n",
    "from keras import models\n",
    "from keras.callbacks import ModelCheckpoint\n",
    "from keras.optimizers import SGD\n",
    "import time\n",
    "from keras import models, optimizers"
   ]
  },
  {
   "cell_type": "code",
   "execution_count": 2,
   "metadata": {},
   "outputs": [],
   "source": [
    "sq1x1 = \"squeeze1x1\"\n",
    "exp1x1 = \"expand1x1\"\n",
    "exp3x3 = \"expand3x3\"\n",
    "relu = \"relu_\""
   ]
  },
  {
   "cell_type": "code",
   "execution_count": 3,
   "metadata": {},
   "outputs": [],
   "source": [
    "def fire_module(x, fire_id, squeeze=16, expand=64):\n",
    "    s_id = 'fire' + str(fire_id) + '/'\n",
    "\n",
    "    if K.image_data_format() == 'channels_first':\n",
    "        channel_axis = 1\n",
    "    else:\n",
    "        channel_axis = 3\n",
    "    \n",
    "    x = Convolution2D(squeeze, (1, 1), padding='valid', name=s_id + sq1x1)(x)\n",
    "    x = Activation('relu', name=s_id + relu + sq1x1)(x)\n",
    "\n",
    "    left = Convolution2D(expand, (1, 1), padding='valid', name=s_id + exp1x1)(x)\n",
    "    left = Activation('relu', name=s_id + relu + exp1x1)(left)\n",
    "\n",
    "    right = Convolution2D(expand, (3, 3), padding='same', name=s_id + exp3x3)(x)\n",
    "    right = Activation('relu', name=s_id + relu + exp3x3)(right)\n",
    "\n",
    "    x = concatenate([left, right], axis=channel_axis, name=s_id + 'concat')\n",
    "    return x"
   ]
  },
  {
   "cell_type": "code",
   "execution_count": 4,
   "metadata": {},
   "outputs": [],
   "source": [
    "WEIGHTS_PATH_NO_TOP = \"squeezenet_weights_tf_dim_ordering_tf_kernels_notop.h5\""
   ]
  },
  {
   "cell_type": "code",
   "execution_count": 5,
   "metadata": {},
   "outputs": [],
   "source": [
    "def SqueezeNet(include_top=False, weights='imagenet',\n",
    "               input_tensor=None, input_shape=(224,224,3),\n",
    "               pooling=None,\n",
    "               classes=1000):\n",
    "    \"\"\"Instantiates the SqueezeNet architecture.\n",
    "    \"\"\"\n",
    "        \n",
    "    if weights not in {'imagenet', None}:\n",
    "        raise ValueError('The `weights` argument should be either '\n",
    "                         '`None` (random initialization) or `imagenet` '\n",
    "                         '(pre-training on ImageNet).')\n",
    "\n",
    "    if weights == 'imagenet' and classes != 1000:\n",
    "        raise ValueError('If using `weights` as imagenet with `include_top`'\n",
    "                         ' as true, `classes` should be 1000')\n",
    "\n",
    "\n",
    "    input_shape = _obtain_input_shape(input_shape,\n",
    "                                      default_size=224,\n",
    "                                      min_size=48,\n",
    "                                      data_format=K.image_data_format(),\n",
    "                                      require_flatten=include_top)\n",
    "\n",
    "    if input_tensor is None:\n",
    "        img_input = Input(shape=input_shape)\n",
    "    else:\n",
    "        if not K.is_keras_tensor(input_tensor):\n",
    "            img_input = Input(tensor=input_tensor, shape=input_shape)\n",
    "        else:\n",
    "            img_input = input_tensor\n",
    "\n",
    "\n",
    "    x = Convolution2D(64, (3, 3), strides=(2, 2), padding='valid', name='conv1')(img_input)\n",
    "    x = Activation('relu', name='relu_conv1')(x)\n",
    "    x = MaxPooling2D(pool_size=(3, 3), strides=(2, 2), name='pool1')(x)\n",
    "\n",
    "    x = fire_module(x, fire_id=2, squeeze=16, expand=64)\n",
    "    x = fire_module(x, fire_id=3, squeeze=16, expand=64)\n",
    "    x = MaxPooling2D(pool_size=(3, 3), strides=(2, 2), name='pool3')(x)\n",
    "\n",
    "    x = fire_module(x, fire_id=4, squeeze=32, expand=128)\n",
    "    x = fire_module(x, fire_id=5, squeeze=32, expand=128)\n",
    "    x = MaxPooling2D(pool_size=(3, 3), strides=(2, 2), name='pool5')(x)\n",
    "\n",
    "    x = fire_module(x, fire_id=6, squeeze=48, expand=192)\n",
    "    x = fire_module(x, fire_id=7, squeeze=48, expand=192)\n",
    "    x = fire_module(x, fire_id=8, squeeze=64, expand=256)\n",
    "    x = fire_module(x, fire_id=9, squeeze=64, expand=256)\n",
    "    \n",
    "    if include_top:\n",
    "        # It's not obvious where to cut the network... \n",
    "        # Could do the 8th or 9th layer... some work recommends cutting earlier layers.\n",
    "    \n",
    "        x = Dropout(0.5, name='drop9')(x)\n",
    "\n",
    "        x = Convolution2D(classes, (1, 1), padding='valid', name='conv10')(x)\n",
    "        x = Activation('relu', name='relu_conv10')(x)\n",
    "        x = GlobalAveragePooling2D()(x)\n",
    "        x = Activation('softmax', name='loss')(x)\n",
    "    else:\n",
    "        if pooling == 'avg':\n",
    "            x = GlobalAveragePooling2D()(x)\n",
    "        elif pooling=='max':\n",
    "            x = GlobalMaxPooling2D()(x)\n",
    "        elif pooling==None:\n",
    "            pass\n",
    "        else:\n",
    "            raise ValueError(\"Unknown argument for 'pooling'=\" + pooling)\n",
    "\n",
    "    # Ensure that the model takes into account\n",
    "    # any potential predecessors of `input_tensor`.\n",
    "    if input_tensor is not None:\n",
    "        inputs = get_source_inputs(input_tensor)\n",
    "    else:\n",
    "        inputs = img_input\n",
    "\n",
    "    model = Model(inputs, x, name='squeezenet')\n",
    "\n",
    "    # load weights\n",
    "    if weights == 'imagenet':\n",
    "        if include_top:\n",
    "            weights_path = get_file('squeezenet_weights_tf_dim_ordering_tf_kernels.h5',\n",
    "                                    WEIGHTS_PATH,\n",
    "                                    cache_subdir='models')\n",
    "        else:\n",
    "            pass\n",
    "        \n",
    "            \n",
    "        model.load_weights(WEIGHTS_PATH_NO_TOP)\n",
    "        if K.backend() == 'theano':\n",
    "            layer_utils.convert_all_kernels_in_model(model)\n",
    "\n",
    "        if K.image_data_format() == 'channels_first':\n",
    "\n",
    "            if K.backend() == 'tensorflow':\n",
    "                warnings.warn('You are using the TensorFlow backend, yet you '\n",
    "                              'are using the Theano '\n",
    "                              'image data format convention '\n",
    "                              '(`image_data_format=\"channels_first\"`). '\n",
    "                              'For best performance, set '\n",
    "                              '`image_data_format=\"channels_last\"` in '\n",
    "                              'your Keras config '\n",
    "                              'at ~/.keras/keras.json.')\n",
    "    return model"
   ]
  },
  {
   "cell_type": "code",
   "execution_count": 6,
   "metadata": {},
   "outputs": [],
   "source": [
    "sqnet = SqueezeNet(include_top=False,weights='imagenet')"
   ]
  },
  {
   "cell_type": "code",
   "execution_count": 7,
   "metadata": {},
   "outputs": [
    {
     "name": "stdout",
     "output_type": "stream",
     "text": [
      "__________________________________________________________________________________________________\n",
      "Layer (type)                    Output Shape         Param #     Connected to                     \n",
      "==================================================================================================\n",
      "input_1 (InputLayer)            (None, 224, 224, 3)  0                                            \n",
      "__________________________________________________________________________________________________\n",
      "conv1 (Conv2D)                  (None, 111, 111, 64) 1792        input_1[0][0]                    \n",
      "__________________________________________________________________________________________________\n",
      "relu_conv1 (Activation)         (None, 111, 111, 64) 0           conv1[0][0]                      \n",
      "__________________________________________________________________________________________________\n",
      "pool1 (MaxPooling2D)            (None, 55, 55, 64)   0           relu_conv1[0][0]                 \n",
      "__________________________________________________________________________________________________\n",
      "fire2/squeeze1x1 (Conv2D)       (None, 55, 55, 16)   1040        pool1[0][0]                      \n",
      "__________________________________________________________________________________________________\n",
      "fire2/relu_squeeze1x1 (Activati (None, 55, 55, 16)   0           fire2/squeeze1x1[0][0]           \n",
      "__________________________________________________________________________________________________\n",
      "fire2/expand1x1 (Conv2D)        (None, 55, 55, 64)   1088        fire2/relu_squeeze1x1[0][0]      \n",
      "__________________________________________________________________________________________________\n",
      "fire2/expand3x3 (Conv2D)        (None, 55, 55, 64)   9280        fire2/relu_squeeze1x1[0][0]      \n",
      "__________________________________________________________________________________________________\n",
      "fire2/relu_expand1x1 (Activatio (None, 55, 55, 64)   0           fire2/expand1x1[0][0]            \n",
      "__________________________________________________________________________________________________\n",
      "fire2/relu_expand3x3 (Activatio (None, 55, 55, 64)   0           fire2/expand3x3[0][0]            \n",
      "__________________________________________________________________________________________________\n",
      "fire2/concat (Concatenate)      (None, 55, 55, 128)  0           fire2/relu_expand1x1[0][0]       \n",
      "                                                                 fire2/relu_expand3x3[0][0]       \n",
      "__________________________________________________________________________________________________\n",
      "fire3/squeeze1x1 (Conv2D)       (None, 55, 55, 16)   2064        fire2/concat[0][0]               \n",
      "__________________________________________________________________________________________________\n",
      "fire3/relu_squeeze1x1 (Activati (None, 55, 55, 16)   0           fire3/squeeze1x1[0][0]           \n",
      "__________________________________________________________________________________________________\n",
      "fire3/expand1x1 (Conv2D)        (None, 55, 55, 64)   1088        fire3/relu_squeeze1x1[0][0]      \n",
      "__________________________________________________________________________________________________\n",
      "fire3/expand3x3 (Conv2D)        (None, 55, 55, 64)   9280        fire3/relu_squeeze1x1[0][0]      \n",
      "__________________________________________________________________________________________________\n",
      "fire3/relu_expand1x1 (Activatio (None, 55, 55, 64)   0           fire3/expand1x1[0][0]            \n",
      "__________________________________________________________________________________________________\n",
      "fire3/relu_expand3x3 (Activatio (None, 55, 55, 64)   0           fire3/expand3x3[0][0]            \n",
      "__________________________________________________________________________________________________\n",
      "fire3/concat (Concatenate)      (None, 55, 55, 128)  0           fire3/relu_expand1x1[0][0]       \n",
      "                                                                 fire3/relu_expand3x3[0][0]       \n",
      "__________________________________________________________________________________________________\n",
      "pool3 (MaxPooling2D)            (None, 27, 27, 128)  0           fire3/concat[0][0]               \n",
      "__________________________________________________________________________________________________\n",
      "fire4/squeeze1x1 (Conv2D)       (None, 27, 27, 32)   4128        pool3[0][0]                      \n",
      "__________________________________________________________________________________________________\n",
      "fire4/relu_squeeze1x1 (Activati (None, 27, 27, 32)   0           fire4/squeeze1x1[0][0]           \n",
      "__________________________________________________________________________________________________\n",
      "fire4/expand1x1 (Conv2D)        (None, 27, 27, 128)  4224        fire4/relu_squeeze1x1[0][0]      \n",
      "__________________________________________________________________________________________________\n",
      "fire4/expand3x3 (Conv2D)        (None, 27, 27, 128)  36992       fire4/relu_squeeze1x1[0][0]      \n",
      "__________________________________________________________________________________________________\n",
      "fire4/relu_expand1x1 (Activatio (None, 27, 27, 128)  0           fire4/expand1x1[0][0]            \n",
      "__________________________________________________________________________________________________\n",
      "fire4/relu_expand3x3 (Activatio (None, 27, 27, 128)  0           fire4/expand3x3[0][0]            \n",
      "__________________________________________________________________________________________________\n",
      "fire4/concat (Concatenate)      (None, 27, 27, 256)  0           fire4/relu_expand1x1[0][0]       \n",
      "                                                                 fire4/relu_expand3x3[0][0]       \n",
      "__________________________________________________________________________________________________\n",
      "fire5/squeeze1x1 (Conv2D)       (None, 27, 27, 32)   8224        fire4/concat[0][0]               \n",
      "__________________________________________________________________________________________________\n",
      "fire5/relu_squeeze1x1 (Activati (None, 27, 27, 32)   0           fire5/squeeze1x1[0][0]           \n",
      "__________________________________________________________________________________________________\n",
      "fire5/expand1x1 (Conv2D)        (None, 27, 27, 128)  4224        fire5/relu_squeeze1x1[0][0]      \n",
      "__________________________________________________________________________________________________\n",
      "fire5/expand3x3 (Conv2D)        (None, 27, 27, 128)  36992       fire5/relu_squeeze1x1[0][0]      \n",
      "__________________________________________________________________________________________________\n",
      "fire5/relu_expand1x1 (Activatio (None, 27, 27, 128)  0           fire5/expand1x1[0][0]            \n",
      "__________________________________________________________________________________________________\n",
      "fire5/relu_expand3x3 (Activatio (None, 27, 27, 128)  0           fire5/expand3x3[0][0]            \n",
      "__________________________________________________________________________________________________\n",
      "fire5/concat (Concatenate)      (None, 27, 27, 256)  0           fire5/relu_expand1x1[0][0]       \n",
      "                                                                 fire5/relu_expand3x3[0][0]       \n",
      "__________________________________________________________________________________________________\n",
      "pool5 (MaxPooling2D)            (None, 13, 13, 256)  0           fire5/concat[0][0]               \n",
      "__________________________________________________________________________________________________\n",
      "fire6/squeeze1x1 (Conv2D)       (None, 13, 13, 48)   12336       pool5[0][0]                      \n",
      "__________________________________________________________________________________________________\n",
      "fire6/relu_squeeze1x1 (Activati (None, 13, 13, 48)   0           fire6/squeeze1x1[0][0]           \n",
      "__________________________________________________________________________________________________\n",
      "fire6/expand1x1 (Conv2D)        (None, 13, 13, 192)  9408        fire6/relu_squeeze1x1[0][0]      \n",
      "__________________________________________________________________________________________________\n",
      "fire6/expand3x3 (Conv2D)        (None, 13, 13, 192)  83136       fire6/relu_squeeze1x1[0][0]      \n",
      "__________________________________________________________________________________________________\n",
      "fire6/relu_expand1x1 (Activatio (None, 13, 13, 192)  0           fire6/expand1x1[0][0]            \n",
      "__________________________________________________________________________________________________\n",
      "fire6/relu_expand3x3 (Activatio (None, 13, 13, 192)  0           fire6/expand3x3[0][0]            \n",
      "__________________________________________________________________________________________________\n",
      "fire6/concat (Concatenate)      (None, 13, 13, 384)  0           fire6/relu_expand1x1[0][0]       \n",
      "                                                                 fire6/relu_expand3x3[0][0]       \n",
      "__________________________________________________________________________________________________\n",
      "fire7/squeeze1x1 (Conv2D)       (None, 13, 13, 48)   18480       fire6/concat[0][0]               \n",
      "__________________________________________________________________________________________________\n",
      "fire7/relu_squeeze1x1 (Activati (None, 13, 13, 48)   0           fire7/squeeze1x1[0][0]           \n",
      "__________________________________________________________________________________________________\n",
      "fire7/expand1x1 (Conv2D)        (None, 13, 13, 192)  9408        fire7/relu_squeeze1x1[0][0]      \n",
      "__________________________________________________________________________________________________\n",
      "fire7/expand3x3 (Conv2D)        (None, 13, 13, 192)  83136       fire7/relu_squeeze1x1[0][0]      \n",
      "__________________________________________________________________________________________________\n",
      "fire7/relu_expand1x1 (Activatio (None, 13, 13, 192)  0           fire7/expand1x1[0][0]            \n",
      "__________________________________________________________________________________________________\n",
      "fire7/relu_expand3x3 (Activatio (None, 13, 13, 192)  0           fire7/expand3x3[0][0]            \n",
      "__________________________________________________________________________________________________\n",
      "fire7/concat (Concatenate)      (None, 13, 13, 384)  0           fire7/relu_expand1x1[0][0]       \n",
      "                                                                 fire7/relu_expand3x3[0][0]       \n",
      "__________________________________________________________________________________________________\n",
      "fire8/squeeze1x1 (Conv2D)       (None, 13, 13, 64)   24640       fire7/concat[0][0]               \n",
      "__________________________________________________________________________________________________\n",
      "fire8/relu_squeeze1x1 (Activati (None, 13, 13, 64)   0           fire8/squeeze1x1[0][0]           \n",
      "__________________________________________________________________________________________________\n",
      "fire8/expand1x1 (Conv2D)        (None, 13, 13, 256)  16640       fire8/relu_squeeze1x1[0][0]      \n",
      "__________________________________________________________________________________________________\n",
      "fire8/expand3x3 (Conv2D)        (None, 13, 13, 256)  147712      fire8/relu_squeeze1x1[0][0]      \n",
      "__________________________________________________________________________________________________\n",
      "fire8/relu_expand1x1 (Activatio (None, 13, 13, 256)  0           fire8/expand1x1[0][0]            \n",
      "__________________________________________________________________________________________________\n",
      "fire8/relu_expand3x3 (Activatio (None, 13, 13, 256)  0           fire8/expand3x3[0][0]            \n",
      "__________________________________________________________________________________________________\n",
      "fire8/concat (Concatenate)      (None, 13, 13, 512)  0           fire8/relu_expand1x1[0][0]       \n",
      "                                                                 fire8/relu_expand3x3[0][0]       \n",
      "__________________________________________________________________________________________________\n",
      "fire9/squeeze1x1 (Conv2D)       (None, 13, 13, 64)   32832       fire8/concat[0][0]               \n",
      "__________________________________________________________________________________________________\n",
      "fire9/relu_squeeze1x1 (Activati (None, 13, 13, 64)   0           fire9/squeeze1x1[0][0]           \n",
      "__________________________________________________________________________________________________\n",
      "fire9/expand1x1 (Conv2D)        (None, 13, 13, 256)  16640       fire9/relu_squeeze1x1[0][0]      \n",
      "__________________________________________________________________________________________________\n",
      "fire9/expand3x3 (Conv2D)        (None, 13, 13, 256)  147712      fire9/relu_squeeze1x1[0][0]      \n",
      "__________________________________________________________________________________________________\n",
      "fire9/relu_expand1x1 (Activatio (None, 13, 13, 256)  0           fire9/expand1x1[0][0]            \n",
      "__________________________________________________________________________________________________\n",
      "fire9/relu_expand3x3 (Activatio (None, 13, 13, 256)  0           fire9/expand3x3[0][0]            \n",
      "__________________________________________________________________________________________________\n",
      "fire9/concat (Concatenate)      (None, 13, 13, 512)  0           fire9/relu_expand1x1[0][0]       \n",
      "                                                                 fire9/relu_expand3x3[0][0]       \n",
      "==================================================================================================\n",
      "Total params: 722,496\n",
      "Trainable params: 722,496\n",
      "Non-trainable params: 0\n",
      "__________________________________________________________________________________________________\n"
     ]
    }
   ],
   "source": [
    "sqnet.summary()"
   ]
  },
  {
   "cell_type": "code",
   "execution_count": 8,
   "metadata": {},
   "outputs": [],
   "source": [
    "x = sqnet.output\n",
    "x = GlobalAveragePooling2D()(x)\n",
    "x = Dense(256,activation='relu')(x)\n",
    "x = Dense(128,activation='relu')(x)\n",
    "x = Dense(6,activation='softmax')(x)\n",
    "first_model = Model(inputs=sqnet.input, outputs=x)"
   ]
  },
  {
   "cell_type": "code",
   "execution_count": 9,
   "metadata": {
    "scrolled": true
   },
   "outputs": [
    {
     "name": "stdout",
     "output_type": "stream",
     "text": [
      "__________________________________________________________________________________________________\n",
      "Layer (type)                    Output Shape         Param #     Connected to                     \n",
      "==================================================================================================\n",
      "input_1 (InputLayer)            (None, 224, 224, 3)  0                                            \n",
      "__________________________________________________________________________________________________\n",
      "conv1 (Conv2D)                  (None, 111, 111, 64) 1792        input_1[0][0]                    \n",
      "__________________________________________________________________________________________________\n",
      "relu_conv1 (Activation)         (None, 111, 111, 64) 0           conv1[0][0]                      \n",
      "__________________________________________________________________________________________________\n",
      "pool1 (MaxPooling2D)            (None, 55, 55, 64)   0           relu_conv1[0][0]                 \n",
      "__________________________________________________________________________________________________\n",
      "fire2/squeeze1x1 (Conv2D)       (None, 55, 55, 16)   1040        pool1[0][0]                      \n",
      "__________________________________________________________________________________________________\n",
      "fire2/relu_squeeze1x1 (Activati (None, 55, 55, 16)   0           fire2/squeeze1x1[0][0]           \n",
      "__________________________________________________________________________________________________\n",
      "fire2/expand1x1 (Conv2D)        (None, 55, 55, 64)   1088        fire2/relu_squeeze1x1[0][0]      \n",
      "__________________________________________________________________________________________________\n",
      "fire2/expand3x3 (Conv2D)        (None, 55, 55, 64)   9280        fire2/relu_squeeze1x1[0][0]      \n",
      "__________________________________________________________________________________________________\n",
      "fire2/relu_expand1x1 (Activatio (None, 55, 55, 64)   0           fire2/expand1x1[0][0]            \n",
      "__________________________________________________________________________________________________\n",
      "fire2/relu_expand3x3 (Activatio (None, 55, 55, 64)   0           fire2/expand3x3[0][0]            \n",
      "__________________________________________________________________________________________________\n",
      "fire2/concat (Concatenate)      (None, 55, 55, 128)  0           fire2/relu_expand1x1[0][0]       \n",
      "                                                                 fire2/relu_expand3x3[0][0]       \n",
      "__________________________________________________________________________________________________\n",
      "fire3/squeeze1x1 (Conv2D)       (None, 55, 55, 16)   2064        fire2/concat[0][0]               \n",
      "__________________________________________________________________________________________________\n",
      "fire3/relu_squeeze1x1 (Activati (None, 55, 55, 16)   0           fire3/squeeze1x1[0][0]           \n",
      "__________________________________________________________________________________________________\n",
      "fire3/expand1x1 (Conv2D)        (None, 55, 55, 64)   1088        fire3/relu_squeeze1x1[0][0]      \n",
      "__________________________________________________________________________________________________\n",
      "fire3/expand3x3 (Conv2D)        (None, 55, 55, 64)   9280        fire3/relu_squeeze1x1[0][0]      \n",
      "__________________________________________________________________________________________________\n",
      "fire3/relu_expand1x1 (Activatio (None, 55, 55, 64)   0           fire3/expand1x1[0][0]            \n",
      "__________________________________________________________________________________________________\n",
      "fire3/relu_expand3x3 (Activatio (None, 55, 55, 64)   0           fire3/expand3x3[0][0]            \n",
      "__________________________________________________________________________________________________\n",
      "fire3/concat (Concatenate)      (None, 55, 55, 128)  0           fire3/relu_expand1x1[0][0]       \n",
      "                                                                 fire3/relu_expand3x3[0][0]       \n",
      "__________________________________________________________________________________________________\n",
      "pool3 (MaxPooling2D)            (None, 27, 27, 128)  0           fire3/concat[0][0]               \n",
      "__________________________________________________________________________________________________\n",
      "fire4/squeeze1x1 (Conv2D)       (None, 27, 27, 32)   4128        pool3[0][0]                      \n",
      "__________________________________________________________________________________________________\n",
      "fire4/relu_squeeze1x1 (Activati (None, 27, 27, 32)   0           fire4/squeeze1x1[0][0]           \n",
      "__________________________________________________________________________________________________\n",
      "fire4/expand1x1 (Conv2D)        (None, 27, 27, 128)  4224        fire4/relu_squeeze1x1[0][0]      \n",
      "__________________________________________________________________________________________________\n",
      "fire4/expand3x3 (Conv2D)        (None, 27, 27, 128)  36992       fire4/relu_squeeze1x1[0][0]      \n",
      "__________________________________________________________________________________________________\n",
      "fire4/relu_expand1x1 (Activatio (None, 27, 27, 128)  0           fire4/expand1x1[0][0]            \n",
      "__________________________________________________________________________________________________\n",
      "fire4/relu_expand3x3 (Activatio (None, 27, 27, 128)  0           fire4/expand3x3[0][0]            \n",
      "__________________________________________________________________________________________________\n",
      "fire4/concat (Concatenate)      (None, 27, 27, 256)  0           fire4/relu_expand1x1[0][0]       \n",
      "                                                                 fire4/relu_expand3x3[0][0]       \n",
      "__________________________________________________________________________________________________\n",
      "fire5/squeeze1x1 (Conv2D)       (None, 27, 27, 32)   8224        fire4/concat[0][0]               \n",
      "__________________________________________________________________________________________________\n",
      "fire5/relu_squeeze1x1 (Activati (None, 27, 27, 32)   0           fire5/squeeze1x1[0][0]           \n",
      "__________________________________________________________________________________________________\n",
      "fire5/expand1x1 (Conv2D)        (None, 27, 27, 128)  4224        fire5/relu_squeeze1x1[0][0]      \n",
      "__________________________________________________________________________________________________\n",
      "fire5/expand3x3 (Conv2D)        (None, 27, 27, 128)  36992       fire5/relu_squeeze1x1[0][0]      \n",
      "__________________________________________________________________________________________________\n",
      "fire5/relu_expand1x1 (Activatio (None, 27, 27, 128)  0           fire5/expand1x1[0][0]            \n",
      "__________________________________________________________________________________________________\n",
      "fire5/relu_expand3x3 (Activatio (None, 27, 27, 128)  0           fire5/expand3x3[0][0]            \n",
      "__________________________________________________________________________________________________\n",
      "fire5/concat (Concatenate)      (None, 27, 27, 256)  0           fire5/relu_expand1x1[0][0]       \n",
      "                                                                 fire5/relu_expand3x3[0][0]       \n",
      "__________________________________________________________________________________________________\n",
      "pool5 (MaxPooling2D)            (None, 13, 13, 256)  0           fire5/concat[0][0]               \n",
      "__________________________________________________________________________________________________\n",
      "fire6/squeeze1x1 (Conv2D)       (None, 13, 13, 48)   12336       pool5[0][0]                      \n",
      "__________________________________________________________________________________________________\n",
      "fire6/relu_squeeze1x1 (Activati (None, 13, 13, 48)   0           fire6/squeeze1x1[0][0]           \n",
      "__________________________________________________________________________________________________\n",
      "fire6/expand1x1 (Conv2D)        (None, 13, 13, 192)  9408        fire6/relu_squeeze1x1[0][0]      \n",
      "__________________________________________________________________________________________________\n",
      "fire6/expand3x3 (Conv2D)        (None, 13, 13, 192)  83136       fire6/relu_squeeze1x1[0][0]      \n",
      "__________________________________________________________________________________________________\n",
      "fire6/relu_expand1x1 (Activatio (None, 13, 13, 192)  0           fire6/expand1x1[0][0]            \n",
      "__________________________________________________________________________________________________\n",
      "fire6/relu_expand3x3 (Activatio (None, 13, 13, 192)  0           fire6/expand3x3[0][0]            \n",
      "__________________________________________________________________________________________________\n",
      "fire6/concat (Concatenate)      (None, 13, 13, 384)  0           fire6/relu_expand1x1[0][0]       \n",
      "                                                                 fire6/relu_expand3x3[0][0]       \n",
      "__________________________________________________________________________________________________\n",
      "fire7/squeeze1x1 (Conv2D)       (None, 13, 13, 48)   18480       fire6/concat[0][0]               \n",
      "__________________________________________________________________________________________________\n",
      "fire7/relu_squeeze1x1 (Activati (None, 13, 13, 48)   0           fire7/squeeze1x1[0][0]           \n",
      "__________________________________________________________________________________________________\n",
      "fire7/expand1x1 (Conv2D)        (None, 13, 13, 192)  9408        fire7/relu_squeeze1x1[0][0]      \n",
      "__________________________________________________________________________________________________\n",
      "fire7/expand3x3 (Conv2D)        (None, 13, 13, 192)  83136       fire7/relu_squeeze1x1[0][0]      \n",
      "__________________________________________________________________________________________________\n",
      "fire7/relu_expand1x1 (Activatio (None, 13, 13, 192)  0           fire7/expand1x1[0][0]            \n",
      "__________________________________________________________________________________________________\n",
      "fire7/relu_expand3x3 (Activatio (None, 13, 13, 192)  0           fire7/expand3x3[0][0]            \n",
      "__________________________________________________________________________________________________\n",
      "fire7/concat (Concatenate)      (None, 13, 13, 384)  0           fire7/relu_expand1x1[0][0]       \n",
      "                                                                 fire7/relu_expand3x3[0][0]       \n",
      "__________________________________________________________________________________________________\n",
      "fire8/squeeze1x1 (Conv2D)       (None, 13, 13, 64)   24640       fire7/concat[0][0]               \n",
      "__________________________________________________________________________________________________\n",
      "fire8/relu_squeeze1x1 (Activati (None, 13, 13, 64)   0           fire8/squeeze1x1[0][0]           \n",
      "__________________________________________________________________________________________________\n",
      "fire8/expand1x1 (Conv2D)        (None, 13, 13, 256)  16640       fire8/relu_squeeze1x1[0][0]      \n",
      "__________________________________________________________________________________________________\n",
      "fire8/expand3x3 (Conv2D)        (None, 13, 13, 256)  147712      fire8/relu_squeeze1x1[0][0]      \n",
      "__________________________________________________________________________________________________\n",
      "fire8/relu_expand1x1 (Activatio (None, 13, 13, 256)  0           fire8/expand1x1[0][0]            \n",
      "__________________________________________________________________________________________________\n",
      "fire8/relu_expand3x3 (Activatio (None, 13, 13, 256)  0           fire8/expand3x3[0][0]            \n",
      "__________________________________________________________________________________________________\n",
      "fire8/concat (Concatenate)      (None, 13, 13, 512)  0           fire8/relu_expand1x1[0][0]       \n",
      "                                                                 fire8/relu_expand3x3[0][0]       \n",
      "__________________________________________________________________________________________________\n",
      "fire9/squeeze1x1 (Conv2D)       (None, 13, 13, 64)   32832       fire8/concat[0][0]               \n",
      "__________________________________________________________________________________________________\n",
      "fire9/relu_squeeze1x1 (Activati (None, 13, 13, 64)   0           fire9/squeeze1x1[0][0]           \n",
      "__________________________________________________________________________________________________\n",
      "fire9/expand1x1 (Conv2D)        (None, 13, 13, 256)  16640       fire9/relu_squeeze1x1[0][0]      \n",
      "__________________________________________________________________________________________________\n",
      "fire9/expand3x3 (Conv2D)        (None, 13, 13, 256)  147712      fire9/relu_squeeze1x1[0][0]      \n",
      "__________________________________________________________________________________________________\n",
      "fire9/relu_expand1x1 (Activatio (None, 13, 13, 256)  0           fire9/expand1x1[0][0]            \n",
      "__________________________________________________________________________________________________\n",
      "fire9/relu_expand3x3 (Activatio (None, 13, 13, 256)  0           fire9/expand3x3[0][0]            \n",
      "__________________________________________________________________________________________________\n",
      "fire9/concat (Concatenate)      (None, 13, 13, 512)  0           fire9/relu_expand1x1[0][0]       \n",
      "                                                                 fire9/relu_expand3x3[0][0]       \n",
      "__________________________________________________________________________________________________\n",
      "global_average_pooling2d_1 (Glo (None, 512)          0           fire9/concat[0][0]               \n",
      "__________________________________________________________________________________________________\n",
      "dense_1 (Dense)                 (None, 256)          131328      global_average_pooling2d_1[0][0] \n",
      "__________________________________________________________________________________________________\n",
      "dense_2 (Dense)                 (None, 128)          32896       dense_1[0][0]                    \n",
      "__________________________________________________________________________________________________\n",
      "dense_3 (Dense)                 (None, 6)            774         dense_2[0][0]                    \n",
      "==================================================================================================\n",
      "Total params: 887,494\n",
      "Trainable params: 887,494\n",
      "Non-trainable params: 0\n",
      "__________________________________________________________________________________________________\n"
     ]
    }
   ],
   "source": [
    "first_model.summary()"
   ]
  },
  {
   "cell_type": "code",
   "execution_count": 10,
   "metadata": {},
   "outputs": [
    {
     "name": "stdout",
     "output_type": "stream",
     "text": [
      "0 input_1 False\n",
      "1 conv1 True\n",
      "2 relu_conv1 True\n",
      "3 pool1 True\n",
      "4 fire2/squeeze1x1 True\n",
      "5 fire2/relu_squeeze1x1 True\n",
      "6 fire2/expand1x1 True\n",
      "7 fire2/expand3x3 True\n",
      "8 fire2/relu_expand1x1 True\n",
      "9 fire2/relu_expand3x3 True\n",
      "10 fire2/concat True\n",
      "11 fire3/squeeze1x1 True\n",
      "12 fire3/relu_squeeze1x1 True\n",
      "13 fire3/expand1x1 True\n",
      "14 fire3/expand3x3 True\n",
      "15 fire3/relu_expand1x1 True\n",
      "16 fire3/relu_expand3x3 True\n",
      "17 fire3/concat True\n",
      "18 pool3 True\n",
      "19 fire4/squeeze1x1 True\n",
      "20 fire4/relu_squeeze1x1 True\n",
      "21 fire4/expand1x1 True\n",
      "22 fire4/expand3x3 True\n",
      "23 fire4/relu_expand1x1 True\n",
      "24 fire4/relu_expand3x3 True\n",
      "25 fire4/concat True\n",
      "26 fire5/squeeze1x1 True\n",
      "27 fire5/relu_squeeze1x1 True\n",
      "28 fire5/expand1x1 True\n",
      "29 fire5/expand3x3 True\n",
      "30 fire5/relu_expand1x1 True\n",
      "31 fire5/relu_expand3x3 True\n",
      "32 fire5/concat True\n",
      "33 pool5 True\n",
      "34 fire6/squeeze1x1 True\n",
      "35 fire6/relu_squeeze1x1 True\n",
      "36 fire6/expand1x1 True\n",
      "37 fire6/expand3x3 True\n",
      "38 fire6/relu_expand1x1 True\n",
      "39 fire6/relu_expand3x3 True\n",
      "40 fire6/concat True\n",
      "41 fire7/squeeze1x1 True\n",
      "42 fire7/relu_squeeze1x1 True\n",
      "43 fire7/expand1x1 True\n",
      "44 fire7/expand3x3 True\n",
      "45 fire7/relu_expand1x1 True\n",
      "46 fire7/relu_expand3x3 True\n",
      "47 fire7/concat True\n",
      "48 fire8/squeeze1x1 True\n",
      "49 fire8/relu_squeeze1x1 True\n",
      "50 fire8/expand1x1 True\n",
      "51 fire8/expand3x3 True\n",
      "52 fire8/relu_expand1x1 True\n",
      "53 fire8/relu_expand3x3 True\n",
      "54 fire8/concat True\n",
      "55 fire9/squeeze1x1 True\n",
      "56 fire9/relu_squeeze1x1 True\n",
      "57 fire9/expand1x1 True\n",
      "58 fire9/expand3x3 True\n",
      "59 fire9/relu_expand1x1 True\n",
      "60 fire9/relu_expand3x3 True\n",
      "61 fire9/concat True\n",
      "62 global_average_pooling2d_1 True\n",
      "63 dense_1 True\n",
      "64 dense_2 True\n",
      "65 dense_3 True\n"
     ]
    }
   ],
   "source": [
    "for i,layer in enumerate(first_model.layers):\n",
    "    print(i,layer.name,layer.trainable)"
   ]
  },
  {
   "cell_type": "code",
   "execution_count": 11,
   "metadata": {},
   "outputs": [],
   "source": [
    "for layer in first_model.layers[:41]:\n",
    "    layer.trainable= False"
   ]
  },
  {
   "cell_type": "code",
   "execution_count": 12,
   "metadata": {},
   "outputs": [],
   "source": [
    "train_data_set = './Training'\n",
    "validation_set = './Validation'\n",
    "test_data_set = './Test'"
   ]
  },
  {
   "cell_type": "code",
   "execution_count": 13,
   "metadata": {},
   "outputs": [
    {
     "name": "stdout",
     "output_type": "stream",
     "text": [
      "Found 9918 images belonging to 6 classes.\n",
      "Found 1428 images belonging to 6 classes.\n"
     ]
    }
   ],
   "source": [
    "train_data_gen = ImageDataGenerator(rescale=1.0/255,rotation_range=15, shear_range=0.2,width_shift_range=0.13,height_shift_range=0.13,zoom_range=[0.6,0.2],horizontal_flip=True,fill_mode='nearest',data_format='channels_last')\n",
    "valid_data_gen = ImageDataGenerator(rescale=1.0/255,data_format='channels_last')\n",
    "train_set = train_data_gen.flow_from_directory(train_data_set,target_size=(224,224),batch_size=16,class_mode='categorical',shuffle=True,color_mode='rgb')\n",
    "valid_set = valid_data_gen.flow_from_directory(validation_set,target_size=(224,224),batch_size=16,class_mode='categorical',shuffle=True,color_mode='rgb')"
   ]
  },
  {
   "cell_type": "code",
   "execution_count": 14,
   "metadata": {},
   "outputs": [],
   "source": [
    "callback_ckpt = ModelCheckpoint(\"Sq_weights{epoch:08d}.h5\",period=10,save_weights_only=False,verbose=0)"
   ]
  },
  {
   "cell_type": "code",
   "execution_count": 15,
   "metadata": {},
   "outputs": [],
   "source": [
    "first_model.compile(loss=\"categorical_crossentropy\",optimizer=optimizers.SGD(lr=1e-4, momentum=0.9,nesterov=True),metrics=['accuracy'])"
   ]
  },
  {
   "cell_type": "code",
   "execution_count": 16,
   "metadata": {},
   "outputs": [
    {
     "name": "stdout",
     "output_type": "stream",
     "text": [
      "Epoch 1/30\n",
      "  5/619 [..............................] - ETA: 4:41 - loss: 1.9840 - acc: 0.2250"
     ]
    },
    {
     "name": "stderr",
     "output_type": "stream",
     "text": [
      "C:\\Users\\Hou\\AppData\\Local\\conda\\conda\\envs\\Keras_TF\\lib\\site-packages\\PIL\\Image.py:966: UserWarning: Palette images with Transparency   expressed in bytes should be converted to RGBA images\n",
      "  'to RGBA images')\n"
     ]
    },
    {
     "name": "stdout",
     "output_type": "stream",
     "text": [
      "232/619 [==========>...................] - ETA: 2:19 - loss: 1.8008 - acc: 0.2142"
     ]
    },
    {
     "name": "stderr",
     "output_type": "stream",
     "text": [
      "C:\\Users\\Hou\\AppData\\Local\\conda\\conda\\envs\\Keras_TF\\lib\\site-packages\\PIL\\TiffImagePlugin.py:768: UserWarning: Possibly corrupt EXIF data.  Expecting to read 8 bytes but only got 2. Skipping tag 41486\n",
      "  \" Skipping tag %s\" % (size, len(data), tag))\n",
      "C:\\Users\\Hou\\AppData\\Local\\conda\\conda\\envs\\Keras_TF\\lib\\site-packages\\PIL\\TiffImagePlugin.py:768: UserWarning: Possibly corrupt EXIF data.  Expecting to read 8 bytes but only got 0. Skipping tag 41487\n",
      "  \" Skipping tag %s\" % (size, len(data), tag))\n"
     ]
    },
    {
     "name": "stdout",
     "output_type": "stream",
     "text": [
      "320/619 [==============>...............] - ETA: 1:47 - loss: 1.7895 - acc: 0.2158"
     ]
    },
    {
     "name": "stderr",
     "output_type": "stream",
     "text": [
      "C:\\Users\\Hou\\AppData\\Local\\conda\\conda\\envs\\Keras_TF\\lib\\site-packages\\PIL\\TiffImagePlugin.py:768: UserWarning: Possibly corrupt EXIF data.  Expecting to read 8 bytes but only got 4. Skipping tag 41486\n",
      "  \" Skipping tag %s\" % (size, len(data), tag))\n"
     ]
    },
    {
     "name": "stdout",
     "output_type": "stream",
     "text": [
      "619/619 [==============================] - 241s 390ms/step - loss: 1.7648 - acc: 0.2350 - val_loss: 1.7140 - val_acc: 0.2388\n",
      "Epoch 2/30\n",
      "619/619 [==============================] - 233s 376ms/step - loss: 1.6787 - acc: 0.3029 - val_loss: 1.6881 - val_acc: 0.2514\n",
      "Epoch 3/30\n",
      "619/619 [==============================] - 232s 375ms/step - loss: 1.6050 - acc: 0.3478 - val_loss: 1.6225 - val_acc: 0.3343\n",
      "Epoch 4/30\n",
      "619/619 [==============================] - 233s 377ms/step - loss: 1.5702 - acc: 0.3538 - val_loss: 1.6159 - val_acc: 0.3357\n",
      "Epoch 5/30\n",
      "619/619 [==============================] - 233s 376ms/step - loss: 1.5236 - acc: 0.3802 - val_loss: 1.7383 - val_acc: 0.2599\n",
      "Epoch 6/30\n",
      "619/619 [==============================] - 232s 376ms/step - loss: 1.5004 - acc: 0.3996 - val_loss: 1.6689 - val_acc: 0.2982\n",
      "Epoch 7/30\n",
      "619/619 [==============================] - 234s 378ms/step - loss: 1.4742 - acc: 0.4044 - val_loss: 1.5868 - val_acc: 0.3463\n",
      "Epoch 8/30\n",
      "619/619 [==============================] - 232s 375ms/step - loss: 1.4352 - acc: 0.4314 - val_loss: 1.5942 - val_acc: 0.3215\n",
      "Epoch 9/30\n",
      "619/619 [==============================] - 232s 374ms/step - loss: 1.4072 - acc: 0.4447 - val_loss: 1.6149 - val_acc: 0.3364\n",
      "Epoch 10/30\n",
      "619/619 [==============================] - 232s 375ms/step - loss: 1.3816 - acc: 0.4580 - val_loss: 1.6296 - val_acc: 0.3399\n",
      "Epoch 11/30\n",
      "619/619 [==============================] - 233s 376ms/step - loss: 1.3457 - acc: 0.4746 - val_loss: 1.6229 - val_acc: 0.3612\n",
      "Epoch 12/30\n",
      "619/619 [==============================] - 232s 374ms/step - loss: 1.3249 - acc: 0.4856 - val_loss: 1.7058 - val_acc: 0.3102\n",
      "Epoch 13/30\n",
      "619/619 [==============================] - 233s 376ms/step - loss: 1.2901 - acc: 0.5036 - val_loss: 1.6850 - val_acc: 0.3605\n",
      "Epoch 14/30\n",
      "619/619 [==============================] - 231s 374ms/step - loss: 1.2655 - acc: 0.5099 - val_loss: 1.5579 - val_acc: 0.3831\n",
      "Epoch 15/30\n",
      "619/619 [==============================] - 233s 377ms/step - loss: 1.2355 - acc: 0.5247 - val_loss: 1.6049 - val_acc: 0.3789\n",
      "Epoch 16/30\n",
      "619/619 [==============================] - 232s 375ms/step - loss: 1.2085 - acc: 0.5386 - val_loss: 1.6730 - val_acc: 0.3676\n",
      "Epoch 17/30\n",
      "619/619 [==============================] - 232s 375ms/step - loss: 1.1700 - acc: 0.5565 - val_loss: 1.4772 - val_acc: 0.4271\n",
      "Epoch 18/30\n",
      "619/619 [==============================] - 232s 374ms/step - loss: 1.1390 - acc: 0.5737 - val_loss: 1.4457 - val_acc: 0.4129\n",
      "Epoch 19/30\n",
      "619/619 [==============================] - 232s 375ms/step - loss: 1.1111 - acc: 0.5838 - val_loss: 1.5476 - val_acc: 0.4143\n",
      "Epoch 20/30\n",
      "619/619 [==============================] - 232s 375ms/step - loss: 1.0920 - acc: 0.5915 - val_loss: 1.3748 - val_acc: 0.4752\n",
      "Epoch 21/30\n",
      "619/619 [==============================] - 232s 374ms/step - loss: 1.0786 - acc: 0.5948 - val_loss: 1.4550 - val_acc: 0.4490\n",
      "Epoch 22/30\n",
      "619/619 [==============================] - 233s 376ms/step - loss: 1.0480 - acc: 0.6109 - val_loss: 1.4257 - val_acc: 0.4561\n",
      "Epoch 23/30\n",
      "619/619 [==============================] - 233s 377ms/step - loss: 1.0265 - acc: 0.6210 - val_loss: 1.3745 - val_acc: 0.4788\n",
      "Epoch 24/30\n",
      "619/619 [==============================] - 232s 374ms/step - loss: 1.0172 - acc: 0.6267 - val_loss: 1.3469 - val_acc: 0.4887\n",
      "Epoch 25/30\n",
      "619/619 [==============================] - 232s 374ms/step - loss: 0.9962 - acc: 0.6299 - val_loss: 1.3300 - val_acc: 0.4865\n",
      "Epoch 26/30\n",
      "619/619 [==============================] - 231s 373ms/step - loss: 0.9777 - acc: 0.6397 - val_loss: 1.3698 - val_acc: 0.4894\n",
      "Epoch 27/30\n",
      "619/619 [==============================] - 235s 379ms/step - loss: 0.9657 - acc: 0.6430 - val_loss: 1.3049 - val_acc: 0.5078\n",
      "Epoch 28/30\n",
      "619/619 [==============================] - 232s 374ms/step - loss: 0.9546 - acc: 0.6470 - val_loss: 1.3101 - val_acc: 0.5085\n",
      "Epoch 29/30\n",
      "619/619 [==============================] - 232s 374ms/step - loss: 0.9504 - acc: 0.6511 - val_loss: 1.2925 - val_acc: 0.5248\n",
      "Epoch 30/30\n",
      "619/619 [==============================] - 232s 375ms/step - loss: 0.9227 - acc: 0.6645 - val_loss: 1.2787 - val_acc: 0.5248\n",
      "time : 6979.119275093079\n"
     ]
    }
   ],
   "source": [
    "start = time.time()\n",
    "history = first_model.fit_generator(train_set,steps_per_epoch=9918//16,epochs=30,validation_data=valid_set,validation_steps=1428//16,callbacks=[callback_ckpt])\n",
    "print(\"time :\", time.time() - start)\n",
    "first_model.save(\"SqueezeNet_Transfer_Learning_1.h5\")"
   ]
  },
  {
   "cell_type": "code",
   "execution_count": 19,
   "metadata": {},
   "outputs": [
    {
     "data": {
      "text/plain": [
       "<matplotlib.legend.Legend at 0x1db72e4c2e8>"
      ]
     },
     "execution_count": 19,
     "metadata": {},
     "output_type": "execute_result"
    },
    {
     "data": {
      "image/png": "[encoded data removed]",
      "text/plain": [
       "<Figure size 432x288 with 1 Axes>"
      ]
     },
     "metadata": {
      "needs_background": "light"
     },
     "output_type": "display_data"
    }
   ],
   "source": [
    "import matplotlib.pyplot as plt\n",
    "acc = history.history['acc']\n",
    "loss = history.history['loss']\n",
    "epochs = range(len(acc))\n",
    "plt.plot(epochs,acc,'r',label='Training Accuracy')\n",
    "plt.title(\"Training Accuracy & Loss\")\n",
    "plt.plot(epochs,loss,'b',label='Training Loss')\n",
    "plt.legend()"
   ]
  },
  {
   "cell_type": "code",
   "execution_count": 30,
   "metadata": {},
   "outputs": [
    {
     "data": {
      "text/plain": [
       "<matplotlib.legend.Legend at 0x1db731d4cc0>"
      ]
     },
     "execution_count": 30,
     "metadata": {},
     "output_type": "execute_result"
    },
    {
     "data": {
      "image/png": "[encoded data removed]",
      "text/plain": [
       "<Figure size 432x288 with 1 Axes>"
      ]
     },
     "metadata": {
      "needs_background": "light"
     },
     "output_type": "display_data"
    }
   ],
   "source": [
    "plt.clf()\n",
    "val_acc = history.history['val_acc']\n",
    "val_loss = history.history['val_loss']\n",
    "epochs = range(len(acc))\n",
    "plt.plot(epochs,val_acc,'r',label='Validation Accuracy')\n",
    "plt.title(\"Validation Accuracy & Loss\")\n",
    "plt.plot(epochs,val_loss,'b',label='Validation Loss')\n",
    "plt.legend()"
   ]
  },
  {
   "cell_type": "code",
   "execution_count": 22,
   "metadata": {},
   "outputs": [
    {
     "name": "stdout",
     "output_type": "stream",
     "text": [
      "Found 2860 images belonging to 6 classes.\n",
      "89/89 [==============================] - 35s 390ms/step\n"
     ]
    },
    {
     "data": {
      "text/plain": [
       "[1.3223098596830047, 0.5379213483146067]"
      ]
     },
     "execution_count": 22,
     "metadata": {},
     "output_type": "execute_result"
    }
   ],
   "source": [
    "test_data_gen = ImageDataGenerator(rescale=1.0/255,data_format='channels_last')\n",
    "test_set_generator = test_data_gen.flow_from_directory(test_data_set,target_size=(224,224),batch_size=32,class_mode='categorical',color_mode='rgb',shuffle=True)\n",
    "first_model.evaluate_generator(test_set_generator,steps=2860//32,verbose=1)"
   ]
  },
  {
   "cell_type": "code",
   "execution_count": 23,
   "metadata": {},
   "outputs": [
    {
     "name": "stdout",
     "output_type": "stream",
     "text": [
      "Epoch 1/30\n",
      "120/619 [====>.........................] - ETA: 2:53 - loss: 0.9337 - acc: 0.6599"
     ]
    },
    {
     "name": "stderr",
     "output_type": "stream",
     "text": [
      "C:\\Users\\Hou\\AppData\\Local\\conda\\conda\\envs\\Keras_TF\\lib\\site-packages\\PIL\\TiffImagePlugin.py:768: UserWarning: Possibly corrupt EXIF data.  Expecting to read 8 bytes but only got 2. Skipping tag 41486\n",
      "  \" Skipping tag %s\" % (size, len(data), tag))\n",
      "C:\\Users\\Hou\\AppData\\Local\\conda\\conda\\envs\\Keras_TF\\lib\\site-packages\\PIL\\TiffImagePlugin.py:768: UserWarning: Possibly corrupt EXIF data.  Expecting to read 8 bytes but only got 0. Skipping tag 41487\n",
      "  \" Skipping tag %s\" % (size, len(data), tag))\n"
     ]
    },
    {
     "name": "stdout",
     "output_type": "stream",
     "text": [
      "332/619 [===============>..............] - ETA: 1:41 - loss: 0.9179 - acc: 0.6657"
     ]
    },
    {
     "name": "stderr",
     "output_type": "stream",
     "text": [
      "C:\\Users\\Hou\\AppData\\Local\\conda\\conda\\envs\\Keras_TF\\lib\\site-packages\\PIL\\TiffImagePlugin.py:768: UserWarning: Possibly corrupt EXIF data.  Expecting to read 8 bytes but only got 4. Skipping tag 41486\n",
      "  \" Skipping tag %s\" % (size, len(data), tag))\n"
     ]
    },
    {
     "name": "stdout",
     "output_type": "stream",
     "text": [
      "619/619 [==============================] - 237s 384ms/step - loss: 0.9233 - acc: 0.6635 - val_loss: 1.2694 - val_acc: 0.5163\n",
      "Epoch 2/30\n",
      "619/619 [==============================] - 231s 373ms/step - loss: 0.8940 - acc: 0.6681 - val_loss: 1.2015 - val_acc: 0.5439\n",
      "Epoch 3/30\n",
      "619/619 [==============================] - 231s 373ms/step - loss: 0.8679 - acc: 0.6812 - val_loss: 1.2363 - val_acc: 0.5517\n",
      "Epoch 4/30\n",
      "619/619 [==============================] - 230s 372ms/step - loss: 0.8767 - acc: 0.6787 - val_loss: 1.1297 - val_acc: 0.5659\n",
      "Epoch 5/30\n",
      "619/619 [==============================] - 232s 375ms/step - loss: 0.8558 - acc: 0.6859 - val_loss: 1.1356 - val_acc: 0.5623\n",
      "Epoch 6/30\n",
      "619/619 [==============================] - 235s 379ms/step - loss: 0.8457 - acc: 0.6916 - val_loss: 1.1897 - val_acc: 0.5652\n",
      "Epoch 7/30\n",
      "619/619 [==============================] - 229s 369ms/step - loss: 0.8508 - acc: 0.6886 - val_loss: 1.1492 - val_acc: 0.5708\n",
      "Epoch 8/30\n",
      "619/619 [==============================] - 236s 381ms/step - loss: 0.8298 - acc: 0.6962 - val_loss: 1.1354 - val_acc: 0.5800\n",
      "Epoch 9/30\n",
      "619/619 [==============================] - 233s 377ms/step - loss: 0.8318 - acc: 0.6926 - val_loss: 1.1018 - val_acc: 0.5680\n",
      "Epoch 10/30\n",
      "619/619 [==============================] - 231s 372ms/step - loss: 0.8223 - acc: 0.6984 - val_loss: 1.2874 - val_acc: 0.5262\n",
      "Epoch 11/30\n",
      "619/619 [==============================] - 231s 373ms/step - loss: 0.7966 - acc: 0.7096 - val_loss: 1.1347 - val_acc: 0.5793\n",
      "Epoch 12/30\n",
      "619/619 [==============================] - 235s 379ms/step - loss: 0.7995 - acc: 0.7086 - val_loss: 1.1990 - val_acc: 0.5637\n",
      "Epoch 13/30\n",
      "619/619 [==============================] - 233s 377ms/step - loss: 0.8003 - acc: 0.7068 - val_loss: 1.0487 - val_acc: 0.6105\n",
      "Epoch 14/30\n",
      "619/619 [==============================] - 234s 379ms/step - loss: 0.7855 - acc: 0.7082 - val_loss: 1.1301 - val_acc: 0.5857\n",
      "Epoch 15/30\n",
      "619/619 [==============================] - 233s 377ms/step - loss: 0.7843 - acc: 0.7116 - val_loss: 1.2148 - val_acc: 0.5708\n",
      "Epoch 16/30\n",
      "619/619 [==============================] - 233s 376ms/step - loss: 0.7664 - acc: 0.7199 - val_loss: 1.0866 - val_acc: 0.6076\n",
      "Epoch 17/30\n",
      "619/619 [==============================] - 228s 369ms/step - loss: 0.7736 - acc: 0.7164 - val_loss: 1.0943 - val_acc: 0.6020\n",
      "Epoch 18/30\n",
      "619/619 [==============================] - 234s 378ms/step - loss: 0.7680 - acc: 0.7175 - val_loss: 1.2225 - val_acc: 0.5545\n",
      "Epoch 19/30\n",
      "619/619 [==============================] - 233s 376ms/step - loss: 0.7473 - acc: 0.7296 - val_loss: 1.0981 - val_acc: 0.6034\n",
      "Epoch 20/30\n",
      "619/619 [==============================] - 229s 370ms/step - loss: 0.7507 - acc: 0.7259 - val_loss: 1.2383 - val_acc: 0.5793\n",
      "Epoch 21/30\n",
      "619/619 [==============================] - 230s 372ms/step - loss: 0.7305 - acc: 0.7319 - val_loss: 1.0824 - val_acc: 0.6076\n",
      "Epoch 22/30\n",
      "619/619 [==============================] - 234s 378ms/step - loss: 0.7443 - acc: 0.7323 - val_loss: 1.1246 - val_acc: 0.5857\n",
      "Epoch 23/30\n",
      "619/619 [==============================] - 234s 377ms/step - loss: 0.7382 - acc: 0.7315 - val_loss: 1.0915 - val_acc: 0.6119\n",
      "Epoch 24/30\n",
      "619/619 [==============================] - 230s 372ms/step - loss: 0.7317 - acc: 0.7357 - val_loss: 1.0506 - val_acc: 0.6303\n",
      "Epoch 25/30\n",
      "619/619 [==============================] - 234s 377ms/step - loss: 0.7240 - acc: 0.7401 - val_loss: 1.0514 - val_acc: 0.6013\n",
      "Epoch 26/30\n",
      "619/619 [==============================] - 229s 369ms/step - loss: 0.7128 - acc: 0.7415 - val_loss: 0.9995 - val_acc: 0.6374\n",
      "Epoch 27/30\n",
      "619/619 [==============================] - 235s 380ms/step - loss: 0.7102 - acc: 0.7461 - val_loss: 1.0664 - val_acc: 0.6126\n",
      "Epoch 28/30\n",
      "619/619 [==============================] - 230s 371ms/step - loss: 0.7089 - acc: 0.7435 - val_loss: 1.0839 - val_acc: 0.6254\n",
      "Epoch 29/30\n",
      "619/619 [==============================] - 234s 377ms/step - loss: 0.6983 - acc: 0.7463 - val_loss: 1.0176 - val_acc: 0.6324\n",
      "Epoch 30/30\n",
      "619/619 [==============================] - 230s 372ms/step - loss: 0.6899 - acc: 0.7489 - val_loss: 1.1516 - val_acc: 0.6048\n",
      "time : 6967.842289686203\n"
     ]
    }
   ],
   "source": [
    "start = time.time()\n",
    "history2 = first_model.fit_generator(train_set,steps_per_epoch=9918//16,epochs=30,validation_data=valid_set,validation_steps=1428//16,callbacks=[callback_ckpt])\n",
    "print(\"time :\", time.time() - start)\n",
    "first_model.save(\"SqueezeNet_Transfer_Learning_2.h5\")"
   ]
  },
  {
   "cell_type": "code",
   "execution_count": 24,
   "metadata": {},
   "outputs": [
    {
     "name": "stdout",
     "output_type": "stream",
     "text": [
      "Found 2860 images belonging to 6 classes.\n",
      "89/89 [==============================] - 38s 422ms/step\n"
     ]
    },
    {
     "data": {
      "text/plain": [
       "[1.249154366134258, 0.5849719101123596]"
      ]
     },
     "execution_count": 24,
     "metadata": {},
     "output_type": "execute_result"
    }
   ],
   "source": [
    "test_data_gen = ImageDataGenerator(rescale=1.0/255,data_format='channels_last')\n",
    "test_set_generator = test_data_gen.flow_from_directory(test_data_set,target_size=(224,224),batch_size=32,class_mode='categorical',color_mode='rgb',shuffle=True)\n",
    "first_model.evaluate_generator(test_set_generator,steps=2860//32,verbose=1)"
   ]
  },
  {
   "cell_type": "code",
   "execution_count": 25,
   "metadata": {},
   "outputs": [
    {
     "data": {
      "text/plain": [
       "<matplotlib.legend.Legend at 0x1db730d2d30>"
      ]
     },
     "execution_count": 25,
     "metadata": {},
     "output_type": "execute_result"
    },
    {
     "data": {
      "image/png": "[encoded data removed]",
      "text/plain": [
       "<Figure size 432x288 with 1 Axes>"
      ]
     },
     "metadata": {
      "needs_background": "light"
     },
     "output_type": "display_data"
    }
   ],
   "source": [
    "acc = history2.history['acc']\n",
    "loss = history2.history['loss']\n",
    "epochs = range(len(acc))\n",
    "plt.plot(epochs,acc,'r',label='Training Accuracy')\n",
    "plt.title(\"Training Accuracy & Loss\")\n",
    "plt.plot(epochs,loss,'b',label='Training Loss')\n",
    "plt.legend()"
   ]
  },
  {
   "cell_type": "code",
   "execution_count": 29,
   "metadata": {},
   "outputs": [
    {
     "data": {
      "text/plain": [
       "<matplotlib.legend.Legend at 0x1db73188c18>"
      ]
     },
     "execution_count": 29,
     "metadata": {},
     "output_type": "execute_result"
    },
    {
     "data": {
      "image/png": "[encoded data removed]",
      "text/plain": [
       "<Figure size 432x288 with 1 Axes>"
      ]
     },
     "metadata": {
      "needs_background": "light"
     },
     "output_type": "display_data"
    }
   ],
   "source": [
    "plt.clf()\n",
    "val_acc = history2.history['val_acc']\n",
    "val_loss = history2.history['val_loss']\n",
    "epochs = range(len(acc))\n",
    "plt.plot(epochs,val_acc,'r',label='Validation Accuracy')\n",
    "plt.title(\"Validation Accuracy & Loss\")\n",
    "plt.plot(epochs,val_loss,'b',label='Validation Loss')\n",
    "plt.legend()"
   ]
  },
  {
   "cell_type": "code",
   "execution_count": 28,
   "metadata": {
    "scrolled": true
   },
   "outputs": [
    {
     "name": "stdout",
     "output_type": "stream",
     "text": [
      "Epoch 1/30\n",
      "979/979 [==============================] - 379s 387ms/step - loss: 0.6729 - acc: 0.7556 - val_loss: 1.0842 - val_acc: 0.6239\n",
      "Epoch 2/30\n",
      "979/979 [==============================] - 380s 388ms/step - loss: 0.6725 - acc: 0.7558 - val_loss: 1.0120 - val_acc: 0.6381\n",
      "Epoch 3/30\n",
      "979/979 [==============================] - 373s 381ms/step - loss: 0.6494 - acc: 0.7673 - val_loss: 1.0720 - val_acc: 0.6324\n",
      "Epoch 4/30\n",
      "979/979 [==============================] - 374s 382ms/step - loss: 0.6538 - acc: 0.7626 - val_loss: 1.2415 - val_acc: 0.5984\n",
      "Epoch 5/30\n",
      " 22/979 [..............................] - ETA: 3:21 - loss: 0.6028 - acc: 0.7756"
     ]
    },
    {
     "ename": "KeyboardInterrupt",
     "evalue": "",
     "output_type": "error",
     "traceback": [
      "\u001b[1;31m---------------------------------------------------------------------------\u001b[0m",
      "\u001b[1;31mKeyboardInterrupt\u001b[0m                         Traceback (most recent call last)",
      "\u001b[1;32m<ipython-input-28-2c45ea1e39aa>\u001b[0m in \u001b[0;36m<module>\u001b[1;34m\u001b[0m\n\u001b[0;32m      1\u001b[0m \u001b[0mstart\u001b[0m \u001b[1;33m=\u001b[0m \u001b[0mtime\u001b[0m\u001b[1;33m.\u001b[0m\u001b[0mtime\u001b[0m\u001b[1;33m(\u001b[0m\u001b[1;33m)\u001b[0m\u001b[1;33m\u001b[0m\u001b[1;33m\u001b[0m\u001b[0m\n\u001b[1;32m----> 2\u001b[1;33m \u001b[0mhistory3\u001b[0m \u001b[1;33m=\u001b[0m \u001b[0mfirst_model\u001b[0m\u001b[1;33m.\u001b[0m\u001b[0mfit_generator\u001b[0m\u001b[1;33m(\u001b[0m\u001b[0mtrain_set\u001b[0m\u001b[1;33m,\u001b[0m\u001b[0msteps_per_epoch\u001b[0m\u001b[1;33m=\u001b[0m\u001b[1;36m15672\u001b[0m\u001b[1;33m//\u001b[0m\u001b[1;36m16\u001b[0m\u001b[1;33m,\u001b[0m\u001b[0mepochs\u001b[0m\u001b[1;33m=\u001b[0m\u001b[1;36m30\u001b[0m\u001b[1;33m,\u001b[0m\u001b[0mvalidation_data\u001b[0m\u001b[1;33m=\u001b[0m\u001b[0mvalid_set\u001b[0m\u001b[1;33m,\u001b[0m\u001b[0mvalidation_steps\u001b[0m\u001b[1;33m=\u001b[0m\u001b[1;36m2254\u001b[0m\u001b[1;33m//\u001b[0m\u001b[1;36m16\u001b[0m\u001b[1;33m,\u001b[0m\u001b[0mcallbacks\u001b[0m\u001b[1;33m=\u001b[0m\u001b[1;33m[\u001b[0m\u001b[0mcallback_ckpt\u001b[0m\u001b[1;33m]\u001b[0m\u001b[1;33m)\u001b[0m\u001b[1;33m\u001b[0m\u001b[1;33m\u001b[0m\u001b[0m\n\u001b[0m\u001b[0;32m      3\u001b[0m \u001b[0mprint\u001b[0m\u001b[1;33m(\u001b[0m\u001b[1;34m\"time :\"\u001b[0m\u001b[1;33m,\u001b[0m \u001b[0mtime\u001b[0m\u001b[1;33m.\u001b[0m\u001b[0mtime\u001b[0m\u001b[1;33m(\u001b[0m\u001b[1;33m)\u001b[0m \u001b[1;33m-\u001b[0m \u001b[0mstart\u001b[0m\u001b[1;33m)\u001b[0m\u001b[1;33m\u001b[0m\u001b[1;33m\u001b[0m\u001b[0m\n\u001b[0;32m      4\u001b[0m \u001b[0mfirst_model\u001b[0m\u001b[1;33m.\u001b[0m\u001b[0msave\u001b[0m\u001b[1;33m(\u001b[0m\u001b[1;34m\"SqueezeNet_Transfer_Learning_3.h5\"\u001b[0m\u001b[1;33m)\u001b[0m\u001b[1;33m\u001b[0m\u001b[1;33m\u001b[0m\u001b[0m\n",
      "\u001b[1;32m~\\AppData\\Local\\conda\\conda\\envs\\Keras_TF\\lib\\site-packages\\keras\\legacy\\interfaces.py\u001b[0m in \u001b[0;36mwrapper\u001b[1;34m(*args, **kwargs)\u001b[0m\n\u001b[0;32m     89\u001b[0m                 warnings.warn('Update your `' + object_name + '` call to the ' +\n\u001b[0;32m     90\u001b[0m                               'Keras 2 API: ' + signature, stacklevel=2)\n\u001b[1;32m---> 91\u001b[1;33m             \u001b[1;32mreturn\u001b[0m \u001b[0mfunc\u001b[0m\u001b[1;33m(\u001b[0m\u001b[1;33m*\u001b[0m\u001b[0margs\u001b[0m\u001b[1;33m,\u001b[0m \u001b[1;33m**\u001b[0m\u001b[0mkwargs\u001b[0m\u001b[1;33m)\u001b[0m\u001b[1;33m\u001b[0m\u001b[1;33m\u001b[0m\u001b[0m\n\u001b[0m\u001b[0;32m     92\u001b[0m         \u001b[0mwrapper\u001b[0m\u001b[1;33m.\u001b[0m\u001b[0m_original_function\u001b[0m \u001b[1;33m=\u001b[0m \u001b[0mfunc\u001b[0m\u001b[1;33m\u001b[0m\u001b[1;33m\u001b[0m\u001b[0m\n\u001b[0;32m     93\u001b[0m         \u001b[1;32mreturn\u001b[0m \u001b[0mwrapper\u001b[0m\u001b[1;33m\u001b[0m\u001b[1;33m\u001b[0m\u001b[0m\n",
      "\u001b[1;32m~\\AppData\\Local\\conda\\conda\\envs\\Keras_TF\\lib\\site-packages\\keras\\engine\\training.py\u001b[0m in \u001b[0;36mfit_generator\u001b[1;34m(self, generator, steps_per_epoch, epochs, verbose, callbacks, validation_data, validation_steps, class_weight, max_queue_size, workers, use_multiprocessing, shuffle, initial_epoch)\u001b[0m\n\u001b[0;32m   1416\u001b[0m             \u001b[0muse_multiprocessing\u001b[0m\u001b[1;33m=\u001b[0m\u001b[0muse_multiprocessing\u001b[0m\u001b[1;33m,\u001b[0m\u001b[1;33m\u001b[0m\u001b[1;33m\u001b[0m\u001b[0m\n\u001b[0;32m   1417\u001b[0m             \u001b[0mshuffle\u001b[0m\u001b[1;33m=\u001b[0m\u001b[0mshuffle\u001b[0m\u001b[1;33m,\u001b[0m\u001b[1;33m\u001b[0m\u001b[1;33m\u001b[0m\u001b[0m\n\u001b[1;32m-> 1418\u001b[1;33m             initial_epoch=initial_epoch)\n\u001b[0m\u001b[0;32m   1419\u001b[0m \u001b[1;33m\u001b[0m\u001b[0m\n\u001b[0;32m   1420\u001b[0m     \u001b[1;33m@\u001b[0m\u001b[0minterfaces\u001b[0m\u001b[1;33m.\u001b[0m\u001b[0mlegacy_generator_methods_support\u001b[0m\u001b[1;33m\u001b[0m\u001b[1;33m\u001b[0m\u001b[0m\n",
      "\u001b[1;32m~\\AppData\\Local\\conda\\conda\\envs\\Keras_TF\\lib\\site-packages\\keras\\engine\\training_generator.py\u001b[0m in \u001b[0;36mfit_generator\u001b[1;34m(model, generator, steps_per_epoch, epochs, verbose, callbacks, validation_data, validation_steps, class_weight, max_queue_size, workers, use_multiprocessing, shuffle, initial_epoch)\u001b[0m\n\u001b[0;32m    179\u001b[0m             \u001b[0mbatch_index\u001b[0m \u001b[1;33m=\u001b[0m \u001b[1;36m0\u001b[0m\u001b[1;33m\u001b[0m\u001b[1;33m\u001b[0m\u001b[0m\n\u001b[0;32m    180\u001b[0m             \u001b[1;32mwhile\u001b[0m \u001b[0msteps_done\u001b[0m \u001b[1;33m<\u001b[0m \u001b[0msteps_per_epoch\u001b[0m\u001b[1;33m:\u001b[0m\u001b[1;33m\u001b[0m\u001b[1;33m\u001b[0m\u001b[0m\n\u001b[1;32m--> 181\u001b[1;33m                 \u001b[0mgenerator_output\u001b[0m \u001b[1;33m=\u001b[0m \u001b[0mnext\u001b[0m\u001b[1;33m(\u001b[0m\u001b[0moutput_generator\u001b[0m\u001b[1;33m)\u001b[0m\u001b[1;33m\u001b[0m\u001b[1;33m\u001b[0m\u001b[0m\n\u001b[0m\u001b[0;32m    182\u001b[0m \u001b[1;33m\u001b[0m\u001b[0m\n\u001b[0;32m    183\u001b[0m                 \u001b[1;32mif\u001b[0m \u001b[1;32mnot\u001b[0m \u001b[0mhasattr\u001b[0m\u001b[1;33m(\u001b[0m\u001b[0mgenerator_output\u001b[0m\u001b[1;33m,\u001b[0m \u001b[1;34m'__len__'\u001b[0m\u001b[1;33m)\u001b[0m\u001b[1;33m:\u001b[0m\u001b[1;33m\u001b[0m\u001b[1;33m\u001b[0m\u001b[0m\n",
      "\u001b[1;32m~\\AppData\\Local\\conda\\conda\\envs\\Keras_TF\\lib\\site-packages\\keras\\utils\\data_utils.py\u001b[0m in \u001b[0;36mget\u001b[1;34m(self)\u001b[0m\n\u001b[0;32m    683\u001b[0m         \u001b[1;32mtry\u001b[0m\u001b[1;33m:\u001b[0m\u001b[1;33m\u001b[0m\u001b[1;33m\u001b[0m\u001b[0m\n\u001b[0;32m    684\u001b[0m             \u001b[1;32mwhile\u001b[0m \u001b[0mself\u001b[0m\u001b[1;33m.\u001b[0m\u001b[0mis_running\u001b[0m\u001b[1;33m(\u001b[0m\u001b[1;33m)\u001b[0m\u001b[1;33m:\u001b[0m\u001b[1;33m\u001b[0m\u001b[1;33m\u001b[0m\u001b[0m\n\u001b[1;32m--> 685\u001b[1;33m                 \u001b[0minputs\u001b[0m \u001b[1;33m=\u001b[0m \u001b[0mself\u001b[0m\u001b[1;33m.\u001b[0m\u001b[0mqueue\u001b[0m\u001b[1;33m.\u001b[0m\u001b[0mget\u001b[0m\u001b[1;33m(\u001b[0m\u001b[0mblock\u001b[0m\u001b[1;33m=\u001b[0m\u001b[1;32mTrue\u001b[0m\u001b[1;33m)\u001b[0m\u001b[1;33m.\u001b[0m\u001b[0mget\u001b[0m\u001b[1;33m(\u001b[0m\u001b[1;33m)\u001b[0m\u001b[1;33m\u001b[0m\u001b[1;33m\u001b[0m\u001b[0m\n\u001b[0m\u001b[0;32m    686\u001b[0m                 \u001b[0mself\u001b[0m\u001b[1;33m.\u001b[0m\u001b[0mqueue\u001b[0m\u001b[1;33m.\u001b[0m\u001b[0mtask_done\u001b[0m\u001b[1;33m(\u001b[0m\u001b[1;33m)\u001b[0m\u001b[1;33m\u001b[0m\u001b[1;33m\u001b[0m\u001b[0m\n\u001b[0;32m    687\u001b[0m                 \u001b[1;32mif\u001b[0m \u001b[0minputs\u001b[0m \u001b[1;32mis\u001b[0m \u001b[1;32mnot\u001b[0m \u001b[1;32mNone\u001b[0m\u001b[1;33m:\u001b[0m\u001b[1;33m\u001b[0m\u001b[1;33m\u001b[0m\u001b[0m\n",
      "\u001b[1;32m~\\AppData\\Local\\conda\\conda\\envs\\Keras_TF\\lib\\multiprocessing\\pool.py\u001b[0m in \u001b[0;36mget\u001b[1;34m(self, timeout)\u001b[0m\n\u001b[0;32m    636\u001b[0m \u001b[1;33m\u001b[0m\u001b[0m\n\u001b[0;32m    637\u001b[0m     \u001b[1;32mdef\u001b[0m \u001b[0mget\u001b[0m\u001b[1;33m(\u001b[0m\u001b[0mself\u001b[0m\u001b[1;33m,\u001b[0m \u001b[0mtimeout\u001b[0m\u001b[1;33m=\u001b[0m\u001b[1;32mNone\u001b[0m\u001b[1;33m)\u001b[0m\u001b[1;33m:\u001b[0m\u001b[1;33m\u001b[0m\u001b[1;33m\u001b[0m\u001b[0m\n\u001b[1;32m--> 638\u001b[1;33m         \u001b[0mself\u001b[0m\u001b[1;33m.\u001b[0m\u001b[0mwait\u001b[0m\u001b[1;33m(\u001b[0m\u001b[0mtimeout\u001b[0m\u001b[1;33m)\u001b[0m\u001b[1;33m\u001b[0m\u001b[1;33m\u001b[0m\u001b[0m\n\u001b[0m\u001b[0;32m    639\u001b[0m         \u001b[1;32mif\u001b[0m \u001b[1;32mnot\u001b[0m \u001b[0mself\u001b[0m\u001b[1;33m.\u001b[0m\u001b[0mready\u001b[0m\u001b[1;33m(\u001b[0m\u001b[1;33m)\u001b[0m\u001b[1;33m:\u001b[0m\u001b[1;33m\u001b[0m\u001b[1;33m\u001b[0m\u001b[0m\n\u001b[0;32m    640\u001b[0m             \u001b[1;32mraise\u001b[0m \u001b[0mTimeoutError\u001b[0m\u001b[1;33m\u001b[0m\u001b[1;33m\u001b[0m\u001b[0m\n",
      "\u001b[1;32m~\\AppData\\Local\\conda\\conda\\envs\\Keras_TF\\lib\\multiprocessing\\pool.py\u001b[0m in \u001b[0;36mwait\u001b[1;34m(self, timeout)\u001b[0m\n\u001b[0;32m    633\u001b[0m \u001b[1;33m\u001b[0m\u001b[0m\n\u001b[0;32m    634\u001b[0m     \u001b[1;32mdef\u001b[0m \u001b[0mwait\u001b[0m\u001b[1;33m(\u001b[0m\u001b[0mself\u001b[0m\u001b[1;33m,\u001b[0m \u001b[0mtimeout\u001b[0m\u001b[1;33m=\u001b[0m\u001b[1;32mNone\u001b[0m\u001b[1;33m)\u001b[0m\u001b[1;33m:\u001b[0m\u001b[1;33m\u001b[0m\u001b[1;33m\u001b[0m\u001b[0m\n\u001b[1;32m--> 635\u001b[1;33m         \u001b[0mself\u001b[0m\u001b[1;33m.\u001b[0m\u001b[0m_event\u001b[0m\u001b[1;33m.\u001b[0m\u001b[0mwait\u001b[0m\u001b[1;33m(\u001b[0m\u001b[0mtimeout\u001b[0m\u001b[1;33m)\u001b[0m\u001b[1;33m\u001b[0m\u001b[1;33m\u001b[0m\u001b[0m\n\u001b[0m\u001b[0;32m    636\u001b[0m \u001b[1;33m\u001b[0m\u001b[0m\n\u001b[0;32m    637\u001b[0m     \u001b[1;32mdef\u001b[0m \u001b[0mget\u001b[0m\u001b[1;33m(\u001b[0m\u001b[0mself\u001b[0m\u001b[1;33m,\u001b[0m \u001b[0mtimeout\u001b[0m\u001b[1;33m=\u001b[0m\u001b[1;32mNone\u001b[0m\u001b[1;33m)\u001b[0m\u001b[1;33m:\u001b[0m\u001b[1;33m\u001b[0m\u001b[1;33m\u001b[0m\u001b[0m\n",
      "\u001b[1;32m~\\AppData\\Local\\conda\\conda\\envs\\Keras_TF\\lib\\threading.py\u001b[0m in \u001b[0;36mwait\u001b[1;34m(self, timeout)\u001b[0m\n\u001b[0;32m    549\u001b[0m             \u001b[0msignaled\u001b[0m \u001b[1;33m=\u001b[0m \u001b[0mself\u001b[0m\u001b[1;33m.\u001b[0m\u001b[0m_flag\u001b[0m\u001b[1;33m\u001b[0m\u001b[1;33m\u001b[0m\u001b[0m\n\u001b[0;32m    550\u001b[0m             \u001b[1;32mif\u001b[0m \u001b[1;32mnot\u001b[0m \u001b[0msignaled\u001b[0m\u001b[1;33m:\u001b[0m\u001b[1;33m\u001b[0m\u001b[1;33m\u001b[0m\u001b[0m\n\u001b[1;32m--> 551\u001b[1;33m                 \u001b[0msignaled\u001b[0m \u001b[1;33m=\u001b[0m \u001b[0mself\u001b[0m\u001b[1;33m.\u001b[0m\u001b[0m_cond\u001b[0m\u001b[1;33m.\u001b[0m\u001b[0mwait\u001b[0m\u001b[1;33m(\u001b[0m\u001b[0mtimeout\u001b[0m\u001b[1;33m)\u001b[0m\u001b[1;33m\u001b[0m\u001b[1;33m\u001b[0m\u001b[0m\n\u001b[0m\u001b[0;32m    552\u001b[0m             \u001b[1;32mreturn\u001b[0m \u001b[0msignaled\u001b[0m\u001b[1;33m\u001b[0m\u001b[1;33m\u001b[0m\u001b[0m\n\u001b[0;32m    553\u001b[0m \u001b[1;33m\u001b[0m\u001b[0m\n",
      "\u001b[1;32m~\\AppData\\Local\\conda\\conda\\envs\\Keras_TF\\lib\\threading.py\u001b[0m in \u001b[0;36mwait\u001b[1;34m(self, timeout)\u001b[0m\n\u001b[0;32m    293\u001b[0m         \u001b[1;32mtry\u001b[0m\u001b[1;33m:\u001b[0m    \u001b[1;31m# restore state no matter what (e.g., KeyboardInterrupt)\u001b[0m\u001b[1;33m\u001b[0m\u001b[1;33m\u001b[0m\u001b[0m\n\u001b[0;32m    294\u001b[0m             \u001b[1;32mif\u001b[0m \u001b[0mtimeout\u001b[0m \u001b[1;32mis\u001b[0m \u001b[1;32mNone\u001b[0m\u001b[1;33m:\u001b[0m\u001b[1;33m\u001b[0m\u001b[1;33m\u001b[0m\u001b[0m\n\u001b[1;32m--> 295\u001b[1;33m                 \u001b[0mwaiter\u001b[0m\u001b[1;33m.\u001b[0m\u001b[0macquire\u001b[0m\u001b[1;33m(\u001b[0m\u001b[1;33m)\u001b[0m\u001b[1;33m\u001b[0m\u001b[1;33m\u001b[0m\u001b[0m\n\u001b[0m\u001b[0;32m    296\u001b[0m                 \u001b[0mgotit\u001b[0m \u001b[1;33m=\u001b[0m \u001b[1;32mTrue\u001b[0m\u001b[1;33m\u001b[0m\u001b[1;33m\u001b[0m\u001b[0m\n\u001b[0;32m    297\u001b[0m             \u001b[1;32melse\u001b[0m\u001b[1;33m:\u001b[0m\u001b[1;33m\u001b[0m\u001b[1;33m\u001b[0m\u001b[0m\n",
      "\u001b[1;31mKeyboardInterrupt\u001b[0m: "
     ]
    }
   ],
   "source": [
    "start = time.time()\n",
    "history3 = first_model.fit_generator(train_set,steps_per_epoch=15672//16,epochs=30,validation_data=valid_set,validation_steps=2254//16,callbacks=[callback_ckpt])\n",
    "print(\"time :\", time.time() - start)\n",
    "first_model.save(\"SqueezeNet_Transfer_Learning_3.h5\")"
   ]
  },
  {
   "cell_type": "code",
   "execution_count": 31,
   "metadata": {},
   "outputs": [
    {
     "name": "stdout",
     "output_type": "stream",
     "text": [
      "Found 2860 images belonging to 6 classes.\n",
      "178/178 [==============================] - 68s 383ms/step\n"
     ]
    },
    {
     "data": {
      "text/plain": [
       "[1.3359637537667917, 0.5856236786889392]"
      ]
     },
     "execution_count": 31,
     "metadata": {},
     "output_type": "execute_result"
    }
   ],
   "source": [
    "test_data_gen = ImageDataGenerator(rescale=1.0/255,data_format='channels_last')\n",
    "test_set_generator = test_data_gen.flow_from_directory(test_data_set,target_size=(224,224),batch_size=32,class_mode='categorical',color_mode='rgb',shuffle=True)\n",
    "first_model.evaluate_generator(test_set_generator,steps=2860//16,verbose=1)"
   ]
  },
  {
   "cell_type": "code",
   "execution_count": 32,
   "metadata": {},
   "outputs": [],
   "source": [
    "first_model.save(\"SqueezeNet_Transfer_Learning_3.h5\")"
   ]
  },
  {
   "cell_type": "code",
   "execution_count": null,
   "metadata": {},
   "outputs": [],
   "source": []
  }
 ],
 "metadata": {
  "kernelspec": {
   "display_name": "Keras_TF",
   "language": "python",
   "name": "keras_tf"
  },
  "language_info": {
   "codemirror_mode": {
    "name": "ipython",
    "version": 3
   },
   "file_extension": ".py",
   "mimetype": "text/x-python",
   "name": "python",
   "nbconvert_exporter": "python",
   "pygments_lexer": "ipython3",
   "version": "3.6.8"
  }
 },
 "nbformat": 4,
 "nbformat_minor": 2
}
